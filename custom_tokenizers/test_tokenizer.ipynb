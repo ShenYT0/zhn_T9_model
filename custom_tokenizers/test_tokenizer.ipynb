{
 "cells": [
  {
   "metadata": {
    "ExecuteTime": {
     "end_time": "2025-06-04T16:47:06.476521Z",
     "start_time": "2025-06-04T16:47:06.474135Z"
    }
   },
   "cell_type": "code",
   "source": "from jieba_tokenizer import JiebaLikeTokenizer",
   "id": "a76520ded7888b6",
   "outputs": [],
   "execution_count": 10
  },
  {
   "metadata": {
    "ExecuteTime": {
     "end_time": "2025-06-04T16:47:07.457858Z",
     "start_time": "2025-06-04T16:47:07.437578Z"
    }
   },
   "cell_type": "code",
   "source": "tokenizer = JiebaLikeTokenizer()",
   "id": "7b825a3d6ecc4c74",
   "outputs": [],
   "execution_count": 11
  },
  {
   "metadata": {
    "ExecuteTime": {
     "end_time": "2025-06-04T16:37:04.836072Z",
     "start_time": "2025-06-04T16:37:04.832478Z"
    }
   },
   "cell_type": "code",
   "source": [
    "text = \"今天 是 正月 十五 ， 是 元宵节 ， 是 她 这种 年纪 欢愉 的 节日 可是 她 却 宁愿 独自 躺 在 这 一 片 寂寞 的 草原 上 。919191\"\n",
    "print(tokenizer.tokenize(text))"
   ],
   "id": "dc06a88f5baa1596",
   "outputs": [
    {
     "name": "stdout",
     "output_type": "stream",
     "text": [
      "['今天', '是', '正月', '十五', '，', '是', '元宵节', '，', '是', '她', '这种', '年纪', '欢愉', '的', '节日', '可是', '她', '却', '宁愿', '独自', '躺', '在', '这', '一', '片', '寂寞', '的', '草原', '上', '。', '9', '1', '9', '1', '9', '1']\n"
     ]
    }
   ],
   "execution_count": 8
  },
  {
   "metadata": {
    "ExecuteTime": {
     "end_time": "2025-06-04T16:37:05.343354Z",
     "start_time": "2025-06-04T16:37:05.340492Z"
    }
   },
   "cell_type": "code",
   "source": "print(tokenizer(text))",
   "id": "3445792babaa8465",
   "outputs": [
    {
     "name": "stdout",
     "output_type": "stream",
     "text": [
      "{'input_ids': [16851, 36105, 6860, 26981, 21471, 36105, 15424, 21471, 36105, 41595, 25355, 21323, 14341, 24596, 3778, 36742, 41595, 8293, 7648, 41015, 30846, 31381, 12067, 40672, 11006, 24538, 24596, 24340, 14965, 14320, 15883, 648, 15883, 648, 15883, 648], 'tokens': ['今天', '是', '正月', '十五', '，', '是', '元宵节', '，', '是', '她', '这种', '年纪', '欢愉', '的', '节日', '可是', '她', '却', '宁愿', '独自', '躺', '在', '这', '一', '片', '寂寞', '的', '草原', '上', '。', '9', '1', '9', '1', '9', '1']}\n"
     ]
    }
   ],
   "execution_count": 9
  },
  {
   "metadata": {},
   "cell_type": "code",
   "outputs": [],
   "execution_count": null,
   "source": "",
   "id": "e97e6bdc9fbf25df"
  }
 ],
 "metadata": {
  "kernelspec": {
   "display_name": "Python 3",
   "language": "python",
   "name": "python3"
  },
  "language_info": {
   "codemirror_mode": {
    "name": "ipython",
    "version": 2
   },
   "file_extension": ".py",
   "mimetype": "text/x-python",
   "name": "python",
   "nbconvert_exporter": "python",
   "pygments_lexer": "ipython2",
   "version": "2.7.6"
  }
 },
 "nbformat": 4,
 "nbformat_minor": 5
}
