{
 "cells": [
  {
   "cell_type": "code",
   "id": "initial_id",
   "metadata": {
    "collapsed": true,
    "ExecuteTime": {
     "end_time": "2025-06-09T14:00:31.836161Z",
     "start_time": "2025-06-09T14:00:27.023677Z"
    }
   },
   "source": [
    "from transformers import Trainer, TrainingArguments\n",
    "from custom_tokenizers.jieba_tokenizer import JiebaLikeTokenizer\n",
    "from model_instancies import model1\n",
    "from datasets import load_dataset"
   ],
   "outputs": [
    {
     "name": "stderr",
     "output_type": "stream",
     "text": [
      "Building prefix dict from the default dictionary ...\n",
      "Loading model from cache /var/folders/cq/3ryty8mx6qz8cqtn1ghkrvmm0000gn/T/jieba.cache\n",
      "Loading model cost 0.246 seconds.\n",
      "Prefix dict has been built successfully.\n"
     ]
    }
   ],
   "execution_count": 1
  },
  {
   "metadata": {
    "ExecuteTime": {
     "end_time": "2025-06-09T14:00:33.247149Z",
     "start_time": "2025-06-09T14:00:32.836002Z"
    }
   },
   "cell_type": "code",
   "source": [
    "# Load and prepare dataset\n",
    "dataset = load_dataset(\"parquet\", data_files=\"../data/training_data/training_corpus.parquet\", split=\"train[:10000]\")\n",
    "dataset = dataset.shuffle(seed=42)\n",
    "dataset = dataset.train_test_split(test_size=0.2)\n",
    "train_data = dataset['train']\n",
    "val_data = dataset['test']"
   ],
   "id": "83052e00f8c7e2fc",
   "outputs": [],
   "execution_count": 2
  },
  {
   "metadata": {
    "ExecuteTime": {
     "end_time": "2025-06-09T14:00:34.235551Z",
     "start_time": "2025-06-09T14:00:34.218944Z"
    }
   },
   "cell_type": "code",
   "source": [
    "tokenizer = JiebaLikeTokenizer()\n",
    "\n",
    "def preprocess(example):\n",
    "    return {\n",
    "        \"input_ids\": tokenizer.convert_tokens_to_ids(example[\"input\"]),\n",
    "        \"labels\": tokenizer.convert_tokens_to_ids([example[\"label\"]], padding=False)[0],\n",
    "    }\n",
    "\n",
    "def add_attention_mask(example, tokenizer=tokenizer):\n",
    "    return {\n",
    "        \"attention_mask\": [0 if input_id==tokenizer.pad_token_id else 1 for input_id in example[\"input_ids\"]],\n",
    "    }"
   ],
   "id": "9ea55711975c8e20",
   "outputs": [],
   "execution_count": 4
  },
  {
   "metadata": {
    "ExecuteTime": {
     "end_time": "2025-06-09T14:00:37.947713Z",
     "start_time": "2025-06-09T14:00:34.769495Z"
    }
   },
   "cell_type": "code",
   "source": [
    "train_data = train_data.map(preprocess, num_proc=8, remove_columns=train_data.column_names)\n",
    "val_data = val_data.map(preprocess, num_proc=8, remove_columns=val_data.column_names)\n",
    "train_data = train_data.map(add_attention_mask, num_proc=8)\n",
    "val_data = val_data.map(add_attention_mask, num_proc=8)\n",
    "\n",
    "print(train_data[0])"
   ],
   "id": "87b717750edf6b9f",
   "outputs": [
    {
     "data": {
      "text/plain": [
       "Map (num_proc=8):   0%|          | 0/8000 [00:00<?, ? examples/s]"
      ],
      "application/vnd.jupyter.widget-view+json": {
       "version_major": 2,
       "version_minor": 0,
       "model_id": "e2cc01e9e6ae4c2e8e6dc639800bfabf"
      }
     },
     "metadata": {},
     "output_type": "display_data"
    },
    {
     "data": {
      "text/plain": [
       "Map (num_proc=8):   0%|          | 0/2000 [00:00<?, ? examples/s]"
      ],
      "application/vnd.jupyter.widget-view+json": {
       "version_major": 2,
       "version_minor": 0,
       "model_id": "2c0ee26f67404882b39a213beb1568b4"
      }
     },
     "metadata": {},
     "output_type": "display_data"
    },
    {
     "data": {
      "text/plain": [
       "Map (num_proc=8):   0%|          | 0/8000 [00:00<?, ? examples/s]"
      ],
      "application/vnd.jupyter.widget-view+json": {
       "version_major": 2,
       "version_minor": 0,
       "model_id": "c6b313de9bc440be963dcf613de084e1"
      }
     },
     "metadata": {},
     "output_type": "display_data"
    },
    {
     "data": {
      "text/plain": [
       "Map (num_proc=8):   0%|          | 0/2000 [00:00<?, ? examples/s]"
      ],
      "application/vnd.jupyter.widget-view+json": {
       "version_major": 2,
       "version_minor": 0,
       "model_id": "8917f422cdfa46af9832cc7a2f87afdd"
      }
     },
     "metadata": {},
     "output_type": "display_data"
    },
    {
     "name": "stdout",
     "output_type": "stream",
     "text": [
      "{'input_ids': [7097, 37425, 28417, 21461, 13548, 31783, 17178, 17002, 8354, 19434, 36854, 4319, 21461, 42646, 38468, 21461, 35765, 30849, 21461, 2232, 41982, 41735, 15385, 36095, 7616, 16504, 14466, 41412, 15485, 2404, 11061, 27428], 'labels': 31218, 'attention_mask': [1, 1, 1, 1, 1, 1, 1, 1, 1, 1, 1, 1, 1, 1, 1, 1, 1, 1, 1, 1, 1, 1, 1, 1, 1, 1, 1, 1, 1, 1, 1, 1]}\n"
     ]
    }
   ],
   "execution_count": 5
  },
  {
   "metadata": {
    "ExecuteTime": {
     "end_time": "2025-06-09T14:00:41.307906Z",
     "start_time": "2025-06-09T14:00:41.119994Z"
    }
   },
   "cell_type": "code",
   "source": "model = model1()",
   "id": "deab1329e060883c",
   "outputs": [],
   "execution_count": 6
  },
  {
   "metadata": {
    "ExecuteTime": {
     "end_time": "2025-06-09T14:05:16.277523Z",
     "start_time": "2025-06-09T14:05:16.268106Z"
    }
   },
   "cell_type": "code",
   "source": [
    "training_args = TrainingArguments(\n",
    "    output_dir=\"../models\",\n",
    "    per_device_train_batch_size=32,\n",
    "    per_device_eval_batch_size=32,\n",
    "    save_strategy=\"steps\",\n",
    "    save_total_limit=3,\n",
    "    num_train_epochs=3,\n",
    "    logging_dir=\"./logs\",\n",
    "    logging_steps=10,\n",
    "    eval_strategy=\"steps\",\n",
    "    eval_steps=20,\n",
    "    load_best_model_at_end=True,\n",
    "    metric_for_best_model=\"eval_loss\",\n",
    ")\n",
    "\n",
    "trainer = Trainer(\n",
    "    model=model,\n",
    "    args=training_args,\n",
    "    train_dataset=train_data,\n",
    "    eval_dataset=val_data,\n",
    ")"
   ],
   "id": "a97370dc87a79319",
   "outputs": [],
   "execution_count": 11
  },
  {
   "metadata": {
    "ExecuteTime": {
     "end_time": "2025-06-09T14:02:17.252969Z",
     "start_time": "2025-06-09T14:01:51.710786Z"
    }
   },
   "cell_type": "code",
   "source": "trainer.train()",
   "id": "2ab362bc3155e26f",
   "outputs": [
    {
     "name": "stderr",
     "output_type": "stream",
     "text": [
      "/Users/weiqizhang/.pyenv/versions/machine_learning/lib/python3.11/site-packages/torch/utils/data/dataloader.py:683: UserWarning: 'pin_memory' argument is set as true but not supported on MPS now, then device pinned memory won't be used.\n",
      "  warnings.warn(warn_msg)\n"
     ]
    },
    {
     "data": {
      "text/plain": [
       "<IPython.core.display.HTML object>"
      ],
      "text/html": [
       "\n",
       "    <div>\n",
       "      \n",
       "      <progress value='750' max='750' style='width:300px; height:20px; vertical-align: middle;'></progress>\n",
       "      [750/750 00:25, Epoch 3/3]\n",
       "    </div>\n",
       "    <table border=\"1\" class=\"dataframe\">\n",
       "  <thead>\n",
       " <tr style=\"text-align: left;\">\n",
       "      <th>Step</th>\n",
       "      <th>Training Loss</th>\n",
       "      <th>Validation Loss</th>\n",
       "    </tr>\n",
       "  </thead>\n",
       "  <tbody>\n",
       "    <tr>\n",
       "      <td>20</td>\n",
       "      <td>6.758800</td>\n",
       "      <td>6.927484</td>\n",
       "    </tr>\n",
       "    <tr>\n",
       "      <td>40</td>\n",
       "      <td>6.752800</td>\n",
       "      <td>6.878438</td>\n",
       "    </tr>\n",
       "    <tr>\n",
       "      <td>60</td>\n",
       "      <td>6.791900</td>\n",
       "      <td>6.840289</td>\n",
       "    </tr>\n",
       "    <tr>\n",
       "      <td>80</td>\n",
       "      <td>6.673600</td>\n",
       "      <td>6.806548</td>\n",
       "    </tr>\n",
       "    <tr>\n",
       "      <td>100</td>\n",
       "      <td>6.699100</td>\n",
       "      <td>6.777026</td>\n",
       "    </tr>\n",
       "    <tr>\n",
       "      <td>120</td>\n",
       "      <td>6.679300</td>\n",
       "      <td>6.752817</td>\n",
       "    </tr>\n",
       "    <tr>\n",
       "      <td>140</td>\n",
       "      <td>6.571800</td>\n",
       "      <td>6.732944</td>\n",
       "    </tr>\n",
       "    <tr>\n",
       "      <td>160</td>\n",
       "      <td>6.692600</td>\n",
       "      <td>6.716900</td>\n",
       "    </tr>\n",
       "    <tr>\n",
       "      <td>180</td>\n",
       "      <td>6.756700</td>\n",
       "      <td>6.699160</td>\n",
       "    </tr>\n",
       "    <tr>\n",
       "      <td>200</td>\n",
       "      <td>6.711500</td>\n",
       "      <td>6.678845</td>\n",
       "    </tr>\n",
       "    <tr>\n",
       "      <td>220</td>\n",
       "      <td>6.673000</td>\n",
       "      <td>6.660373</td>\n",
       "    </tr>\n",
       "    <tr>\n",
       "      <td>240</td>\n",
       "      <td>6.666800</td>\n",
       "      <td>6.647016</td>\n",
       "    </tr>\n",
       "    <tr>\n",
       "      <td>260</td>\n",
       "      <td>6.500000</td>\n",
       "      <td>6.635425</td>\n",
       "    </tr>\n",
       "    <tr>\n",
       "      <td>280</td>\n",
       "      <td>6.589400</td>\n",
       "      <td>6.624012</td>\n",
       "    </tr>\n",
       "    <tr>\n",
       "      <td>300</td>\n",
       "      <td>6.447400</td>\n",
       "      <td>6.612586</td>\n",
       "    </tr>\n",
       "    <tr>\n",
       "      <td>320</td>\n",
       "      <td>6.522500</td>\n",
       "      <td>6.601377</td>\n",
       "    </tr>\n",
       "    <tr>\n",
       "      <td>340</td>\n",
       "      <td>6.470900</td>\n",
       "      <td>6.590427</td>\n",
       "    </tr>\n",
       "    <tr>\n",
       "      <td>360</td>\n",
       "      <td>6.466100</td>\n",
       "      <td>6.578518</td>\n",
       "    </tr>\n",
       "    <tr>\n",
       "      <td>380</td>\n",
       "      <td>6.572800</td>\n",
       "      <td>6.568083</td>\n",
       "    </tr>\n",
       "    <tr>\n",
       "      <td>400</td>\n",
       "      <td>6.485100</td>\n",
       "      <td>6.556069</td>\n",
       "    </tr>\n",
       "    <tr>\n",
       "      <td>420</td>\n",
       "      <td>6.588500</td>\n",
       "      <td>6.545227</td>\n",
       "    </tr>\n",
       "    <tr>\n",
       "      <td>440</td>\n",
       "      <td>6.347100</td>\n",
       "      <td>6.536457</td>\n",
       "    </tr>\n",
       "    <tr>\n",
       "      <td>460</td>\n",
       "      <td>6.442900</td>\n",
       "      <td>6.525903</td>\n",
       "    </tr>\n",
       "    <tr>\n",
       "      <td>480</td>\n",
       "      <td>6.404900</td>\n",
       "      <td>6.515983</td>\n",
       "    </tr>\n",
       "    <tr>\n",
       "      <td>500</td>\n",
       "      <td>6.220800</td>\n",
       "      <td>6.505894</td>\n",
       "    </tr>\n",
       "    <tr>\n",
       "      <td>520</td>\n",
       "      <td>6.479100</td>\n",
       "      <td>6.497248</td>\n",
       "    </tr>\n",
       "    <tr>\n",
       "      <td>540</td>\n",
       "      <td>6.424300</td>\n",
       "      <td>6.490948</td>\n",
       "    </tr>\n",
       "    <tr>\n",
       "      <td>560</td>\n",
       "      <td>6.281100</td>\n",
       "      <td>6.484809</td>\n",
       "    </tr>\n",
       "    <tr>\n",
       "      <td>580</td>\n",
       "      <td>6.345900</td>\n",
       "      <td>6.478902</td>\n",
       "    </tr>\n",
       "    <tr>\n",
       "      <td>600</td>\n",
       "      <td>6.285500</td>\n",
       "      <td>6.474054</td>\n",
       "    </tr>\n",
       "    <tr>\n",
       "      <td>620</td>\n",
       "      <td>6.435600</td>\n",
       "      <td>6.468516</td>\n",
       "    </tr>\n",
       "    <tr>\n",
       "      <td>640</td>\n",
       "      <td>6.372800</td>\n",
       "      <td>6.463622</td>\n",
       "    </tr>\n",
       "    <tr>\n",
       "      <td>660</td>\n",
       "      <td>6.232400</td>\n",
       "      <td>6.459710</td>\n",
       "    </tr>\n",
       "    <tr>\n",
       "      <td>680</td>\n",
       "      <td>6.363700</td>\n",
       "      <td>6.456903</td>\n",
       "    </tr>\n",
       "    <tr>\n",
       "      <td>700</td>\n",
       "      <td>6.432900</td>\n",
       "      <td>6.454860</td>\n",
       "    </tr>\n",
       "    <tr>\n",
       "      <td>720</td>\n",
       "      <td>6.279700</td>\n",
       "      <td>6.453375</td>\n",
       "    </tr>\n",
       "    <tr>\n",
       "      <td>740</td>\n",
       "      <td>6.225700</td>\n",
       "      <td>6.452621</td>\n",
       "    </tr>\n",
       "  </tbody>\n",
       "</table><p>"
      ]
     },
     "metadata": {},
     "output_type": "display_data"
    },
    {
     "name": "stderr",
     "output_type": "stream",
     "text": [
      "/Users/weiqizhang/.pyenv/versions/machine_learning/lib/python3.11/site-packages/torch/utils/data/dataloader.py:683: UserWarning: 'pin_memory' argument is set as true but not supported on MPS now, then device pinned memory won't be used.\n",
      "  warnings.warn(warn_msg)\n"
     ]
    },
    {
     "data": {
      "text/plain": [
       "TrainOutput(global_step=750, training_loss=6.5060505777994795, metrics={'train_runtime': 25.4181, 'train_samples_per_second': 944.208, 'train_steps_per_second': 29.506, 'total_flos': 0.0, 'train_loss': 6.5060505777994795, 'epoch': 3.0})"
      ]
     },
     "execution_count": 9,
     "metadata": {},
     "output_type": "execute_result"
    }
   ],
   "execution_count": 9
  },
  {
   "metadata": {},
   "cell_type": "code",
   "outputs": [],
   "execution_count": null,
   "source": "",
   "id": "eadd936167a323d4"
  }
 ],
 "metadata": {
  "kernelspec": {
   "display_name": "Python 3",
   "language": "python",
   "name": "python3"
  },
  "language_info": {
   "codemirror_mode": {
    "name": "ipython",
    "version": 2
   },
   "file_extension": ".py",
   "mimetype": "text/x-python",
   "name": "python",
   "nbconvert_exporter": "python",
   "pygments_lexer": "ipython2",
   "version": "2.7.6"
  }
 },
 "nbformat": 4,
 "nbformat_minor": 5
}
