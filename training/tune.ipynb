{
 "cells": [
  {
   "cell_type": "code",
   "id": "initial_id",
   "metadata": {
    "collapsed": true,
    "ExecuteTime": {
     "end_time": "2025-06-04T18:23:54.660326Z",
     "start_time": "2025-06-04T18:23:53.791779Z"
    }
   },
   "source": [
    "from datasets import load_dataset\n",
    "\n",
    "# Load first 1000 examples\n",
    "dataset = load_dataset(\"parquet\", data_files=\"../data/training_data/training_corpus.parquet\", split=\"train[:1000]\")\n",
    "\n",
    "# Shuffle and split\n",
    "dataset = dataset.shuffle(seed=42)\n",
    "dataset = dataset.train_test_split(test_size=0.2)\n",
    "\n",
    "train_data = dataset['train']\n",
    "val_data = dataset['test']\n",
    "\n",
    "# Print dataset sizes and one example\n",
    "print(\"Train size:\", len(train_data))\n",
    "print(\"Val size:\", len(val_data))\n",
    "print(train_data[0])"
   ],
   "outputs": [
    {
     "name": "stdout",
     "output_type": "stream",
     "text": [
      "Train size: 800\n",
      "Val size: 200\n",
      "{'input': ['这', '就是', '藏花', '9', '4', '4', '8', '2'], 'label': '喜欢'}\n"
     ]
    }
   ],
   "execution_count": 1
  },
  {
   "metadata": {
    "ExecuteTime": {
     "end_time": "2025-06-04T18:23:55.415373Z",
     "start_time": "2025-06-04T18:23:55.086500Z"
    }
   },
   "cell_type": "code",
   "source": [
    "from custom_tokenizers.jieba_tokenizer import JiebaLikeTokenizer\n",
    "\n",
    "tokenizer = JiebaLikeTokenizer()\n",
    "\n",
    "\n",
    "def preprocess(example, tokenizer=tokenizer):\n",
    "    result = tokenizer(\" \".join(example[\"input\"]))\n",
    "    return {\n",
    "        \"input_ids\": result[\"input_ids\"],\n",
    "        \"label_id\": tokenizer.convert_tokens_to_ids([example[\"label\"]])[0]\n",
    "    }"
   ],
   "id": "dcc9e67138912551",
   "outputs": [
    {
     "name": "stderr",
     "output_type": "stream",
     "text": [
      "Building prefix dict from the default dictionary ...\n",
      "Loading model from cache /var/folders/cq/3ryty8mx6qz8cqtn1ghkrvmm0000gn/T/jieba.cache\n",
      "Loading model cost 0.250 seconds.\n",
      "Prefix dict has been built successfully.\n"
     ]
    }
   ],
   "execution_count": 2
  },
  {
   "metadata": {
    "ExecuteTime": {
     "end_time": "2025-06-04T18:23:58.597030Z",
     "start_time": "2025-06-04T18:23:56.197098Z"
    }
   },
   "cell_type": "code",
   "source": [
    "train_data = train_data.map(preprocess, num_proc=8)\n",
    "val_data = val_data.map(preprocess, num_proc=8)\n",
    "\n",
    "print(train_data[0])"
   ],
   "id": "ac98734341798f18",
   "outputs": [
    {
     "data": {
      "text/plain": [
       "Map (num_proc=8):   0%|          | 0/800 [00:00<?, ? examples/s]"
      ],
      "application/vnd.jupyter.widget-view+json": {
       "version_major": 2,
       "version_minor": 0,
       "model_id": "33f2eb7299474551b331f7700c69a83e"
      }
     },
     "metadata": {},
     "output_type": "display_data"
    },
    {
     "data": {
      "text/plain": [
       "Map (num_proc=8):   0%|          | 0/200 [00:00<?, ? examples/s]"
      ],
      "application/vnd.jupyter.widget-view+json": {
       "version_major": 2,
       "version_minor": 0,
       "model_id": "221a1e0a5e4a4b988727c034ae3a52e5"
      }
     },
     "metadata": {},
     "output_type": "display_data"
    },
    {
     "name": "stdout",
     "output_type": "stream",
     "text": [
      "{'input': ['这', '就是', '藏花', '9', '4', '4', '8', '2'], 'label': '喜欢', 'input_ids': [12067, 24803, 37305, 15883, 31307, 31307, 8699, 11071, 1, 1, 1, 1, 1, 1, 1, 1, 1, 1, 1, 1, 1, 1, 1, 1, 1, 1, 1, 1, 1, 1, 1, 1], 'label_id': 25092}\n"
     ]
    }
   ],
   "execution_count": 3
  },
  {
   "metadata": {
    "ExecuteTime": {
     "end_time": "2025-06-04T18:23:59.477403Z",
     "start_time": "2025-06-04T18:23:58.879128Z"
    }
   },
   "cell_type": "code",
   "source": [
    "import torch\n",
    "\n",
    "x_train = [d[\"input_ids\"] for d in train_data]\n",
    "y_train = [d[\"label_id\"] for d in train_data]\n",
    "x_val = [d[\"input_ids\"] for d in val_data]\n",
    "y_val = [d[\"label_id\"] for d in val_data]\n",
    "\n",
    "x_train = torch.tensor(x_train)\n",
    "y_train = torch.tensor(y_train)\n",
    "x_val = torch.tensor(x_val)\n",
    "y_val = torch.tensor(y_val)\n",
    "\n",
    "print(f\"x_train example: {x_train[0]}\")\n",
    "print(f\"y_train example: {y_train[0]}\")"
   ],
   "id": "777cbad4a09993c9",
   "outputs": [
    {
     "name": "stdout",
     "output_type": "stream",
     "text": [
      "x_train example: tensor([12067, 24803, 37305, 15883, 31307, 31307,  8699, 11071,     1,     1,\n",
      "            1,     1,     1,     1,     1,     1,     1,     1,     1,     1,\n",
      "            1,     1,     1,     1,     1,     1,     1,     1,     1,     1,\n",
      "            1,     1])\n",
      "y_train example: 25092\n"
     ]
    }
   ],
   "execution_count": 4
  },
  {
   "metadata": {
    "ExecuteTime": {
     "end_time": "2025-06-04T18:24:00.340698Z",
     "start_time": "2025-06-04T18:24:00.325464Z"
    }
   },
   "cell_type": "code",
   "source": [
    "device = torch.device(\"mps\" if torch.backends.mps.is_available() else \"cpu\")\n",
    "print(\"Using device:\", device)"
   ],
   "id": "34f5c7b0eb00ec39",
   "outputs": [
    {
     "name": "stdout",
     "output_type": "stream",
     "text": [
      "Using device: mps\n"
     ]
    }
   ],
   "execution_count": 5
  },
  {
   "metadata": {
    "ExecuteTime": {
     "end_time": "2025-06-04T18:24:52.736795Z",
     "start_time": "2025-06-04T18:24:18.756726Z"
    }
   },
   "cell_type": "code",
   "source": [
    "from tuner_setup import run_tuning\n",
    "\n",
    "vocab_size = len(tokenizer.token_to_id)\n",
    "best_model = run_tuning(x_train, y_train, x_val, y_val, vocab_size=vocab_size)"
   ],
   "id": "77ec4cef58650ce8",
   "outputs": [
    {
     "name": "stdout",
     "output_type": "stream",
     "text": [
      "Reloading Tuner from tuner_dir/bert_t9_tune/tuner0.json\n",
      "Search space summary\n",
      "Default search space size: 5\n",
      "embed_dim (Choice)\n",
      "{'default': 64, 'conditions': [], 'values': [64, 128, 256], 'ordered': True}\n",
      "num_heads (Choice)\n",
      "{'default': 2, 'conditions': [], 'values': [2, 4, 8], 'ordered': True}\n",
      "ff_dim (Choice)\n",
      "{'default': 128, 'conditions': [], 'values': [128, 256, 512], 'ordered': True}\n",
      "num_layers (Int)\n",
      "{'default': None, 'conditions': [], 'min_value': 1, 'max_value': 4, 'step': 1, 'sampling': 'linear'}\n",
      "batch_size (Choice)\n",
      "{'default': 16, 'conditions': [], 'values': [16, 32, 64], 'ordered': True}\n",
      "Best hyperparameters found:\n",
      "embed_dim: 256\n",
      "num_heads: 4\n",
      "ff_dim: 128\n",
      "num_layers: 2\n",
      "batch_size: 32\n"
     ]
    }
   ],
   "execution_count": 7
  },
  {
   "metadata": {
    "ExecuteTime": {
     "end_time": "2025-06-04T18:26:09.075459Z",
     "start_time": "2025-06-04T18:26:09.071833Z"
    }
   },
   "cell_type": "code",
   "source": "best_model",
   "id": "a66079f08a1bc4b0",
   "outputs": [
    {
     "data": {
      "text/plain": [
       "BertNextTokenModel(\n",
       "  (embedding): Embedding(43325, 256)\n",
       "  (position_embed): Embedding(32, 256)\n",
       "  (encoder): TransformerEncoder(\n",
       "    (layers): ModuleList(\n",
       "      (0-1): 2 x TransformerEncoderLayer(\n",
       "        (self_attn): MultiheadAttention(\n",
       "          (out_proj): NonDynamicallyQuantizableLinear(in_features=256, out_features=256, bias=True)\n",
       "        )\n",
       "        (linear1): Linear(in_features=256, out_features=128, bias=True)\n",
       "        (dropout): Dropout(p=0.1, inplace=False)\n",
       "        (linear2): Linear(in_features=128, out_features=256, bias=True)\n",
       "        (norm1): LayerNorm((256,), eps=1e-05, elementwise_affine=True)\n",
       "        (norm2): LayerNorm((256,), eps=1e-05, elementwise_affine=True)\n",
       "        (dropout1): Dropout(p=0.1, inplace=False)\n",
       "        (dropout2): Dropout(p=0.1, inplace=False)\n",
       "      )\n",
       "    )\n",
       "  )\n",
       "  (norm): LayerNorm((256,), eps=1e-05, elementwise_affine=True)\n",
       "  (cls_head): Linear(in_features=256, out_features=43325, bias=True)\n",
       ")"
      ]
     },
     "execution_count": 8,
     "metadata": {},
     "output_type": "execute_result"
    }
   ],
   "execution_count": 8
  },
  {
   "metadata": {},
   "cell_type": "code",
   "outputs": [],
   "execution_count": null,
   "source": "",
   "id": "d916f764da53308d"
  }
 ],
 "metadata": {
  "kernelspec": {
   "display_name": "Python 3",
   "language": "python",
   "name": "python3"
  },
  "language_info": {
   "codemirror_mode": {
    "name": "ipython",
    "version": 2
   },
   "file_extension": ".py",
   "mimetype": "text/x-python",
   "name": "python",
   "nbconvert_exporter": "python",
   "pygments_lexer": "ipython2",
   "version": "2.7.6"
  }
 },
 "nbformat": 4,
 "nbformat_minor": 5
}
