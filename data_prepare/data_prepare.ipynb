{
 "cells": [
  {
   "cell_type": "code",
   "id": "initial_id",
   "metadata": {
    "collapsed": true,
    "ExecuteTime": {
     "end_time": "2025-06-03T15:35:14.567550Z",
     "start_time": "2025-06-03T15:35:14.483801Z"
    }
   },
   "source": "from data_prepare.corpus_cleaner import CorpusCleaner",
   "outputs": [],
   "execution_count": 1
  },
  {
   "metadata": {
    "ExecuteTime": {
     "end_time": "2025-06-03T15:35:15.514872Z",
     "start_time": "2025-06-03T15:35:15.512442Z"
    }
   },
   "cell_type": "code",
   "source": "preparer = CorpusCleaner()",
   "id": "bafe296addc98778",
   "outputs": [],
   "execution_count": 2
  },
  {
   "metadata": {
    "ExecuteTime": {
     "end_time": "2025-06-03T15:35:20.606280Z",
     "start_time": "2025-06-03T15:35:17.256579Z"
    }
   },
   "cell_type": "code",
   "source": [
    "samples = preparer.extract_samples_from_files()\n",
    "print(f\"Extracted {len(samples)} samples\")\n",
    "print(f\"Samples example: {samples[0]}\")"
   ],
   "id": "7326ea4c5887bb7d",
   "outputs": [
    {
     "name": "stdout",
     "output_type": "stream",
     "text": [
      "Extracted 43674 samples\n",
      "Samples example: ('52944', 'lazhi', '蜡纸')\n"
     ]
    }
   ],
   "execution_count": 3
  },
  {
   "metadata": {
    "ExecuteTime": {
     "end_time": "2025-06-03T15:35:21.873493Z",
     "start_time": "2025-06-03T15:35:21.134027Z"
    }
   },
   "cell_type": "code",
   "source": [
    "sentences = preparer.extract_sentences_from_files()\n",
    "print(f\"Extracted {len(sentences)} sentences\")\n",
    "print(f\"Sentences example: {sentences[0]}\")"
   ],
   "id": "bf31ce6185e2becd",
   "outputs": [
    {
     "name": "stdout",
     "output_type": "stream",
     "text": [
      "Extracted 45703 sentences\n",
      "Sentences example: 云 在 天空 游荡 ， 它 从 远方 飘 来 ， 又 飘 向 远方 。\n"
     ]
    }
   ],
   "execution_count": 4
  },
  {
   "metadata": {
    "ExecuteTime": {
     "end_time": "2025-06-03T15:35:23.530483Z",
     "start_time": "2025-06-03T15:35:23.507848Z"
    }
   },
   "cell_type": "code",
   "source": [
    "output_path = '../data/zh_T9_dataset.tsv'\n",
    "with open(output_path, 'w', encoding='utf-8') as f:\n",
    "    for digit_seq, pinyin_seq, hanzi in samples:\n",
    "        f.write(f\"{digit_seq}\\t{pinyin_seq}\\t{hanzi}\\n\")"
   ],
   "id": "e117115394aa454c",
   "outputs": [],
   "execution_count": 5
  },
  {
   "metadata": {
    "ExecuteTime": {
     "end_time": "2025-06-03T15:35:24.206919Z",
     "start_time": "2025-06-03T15:35:24.185646Z"
    }
   },
   "cell_type": "code",
   "source": [
    "with open('../data/zh_sent_dataset.tsv', 'w', encoding='utf-8') as f:\n",
    "    for sent in sentences:\n",
    "        f.write(sent + '\\n')"
   ],
   "id": "c74091e18edf6894",
   "outputs": [],
   "execution_count": 6
  },
  {
   "metadata": {},
   "cell_type": "code",
   "outputs": [],
   "execution_count": null,
   "source": "",
   "id": "7f6827d7e6456e6b"
  }
 ],
 "metadata": {
  "kernelspec": {
   "display_name": "Python 3",
   "language": "python",
   "name": "python3"
  },
  "language_info": {
   "codemirror_mode": {
    "name": "ipython",
    "version": 2
   },
   "file_extension": ".py",
   "mimetype": "text/x-python",
   "name": "python",
   "nbconvert_exporter": "python",
   "pygments_lexer": "ipython2",
   "version": "2.7.6"
  }
 },
 "nbformat": 4,
 "nbformat_minor": 5
}
