{
 "cells": [
  {
   "cell_type": "code",
   "id": "initial_id",
   "metadata": {
    "collapsed": true,
    "ExecuteTime": {
     "end_time": "2025-06-04T14:22:13.433708Z",
     "start_time": "2025-06-04T14:22:12.930041Z"
    }
   },
   "source": "from data_augmentor import DataAugmentor",
   "outputs": [],
   "execution_count": 1
  },
  {
   "metadata": {
    "ExecuteTime": {
     "end_time": "2025-06-04T14:22:14.998152Z",
     "start_time": "2025-06-04T14:22:14.934976Z"
    }
   },
   "cell_type": "code",
   "source": [
    "augmentor = DataAugmentor()\n",
    "augmentor.load_sentences()"
   ],
   "id": "8b46ac5a548e8686",
   "outputs": [],
   "execution_count": 2
  },
  {
   "metadata": {
    "ExecuteTime": {
     "end_time": "2025-06-04T14:22:26.323894Z",
     "start_time": "2025-06-04T14:22:15.948794Z"
    }
   },
   "cell_type": "code",
   "source": "data = augmentor.augment_data(max_length=32).get_data()",
   "id": "f0f275bd1818ea9f",
   "outputs": [],
   "execution_count": 3
  },
  {
   "metadata": {
    "ExecuteTime": {
     "end_time": "2025-06-04T14:22:27.091831Z",
     "start_time": "2025-06-04T14:22:27.087978Z"
    }
   },
   "cell_type": "code",
   "source": [
    "for sequence in data[:20]:\n",
    "    print(sequence)"
   ],
   "id": "78fa4bc8e5d225d7",
   "outputs": [
    {
     "name": "stdout",
     "output_type": "stream",
     "text": [
      "(['云', '9'], '在')\n",
      "(['云', '9', '2'], '在')\n",
      "(['云', '9', '2', '4'], '在')\n",
      "(['云', '在', '8'], '天空')\n",
      "(['云', '在', '8', '4'], '天空')\n",
      "(['云', '在', '8', '4', '2'], '天空')\n",
      "(['云', '在', '8', '4', '2', '6'], '天空')\n",
      "(['云', '在', '8', '4', '2', '6', '5'], '天空')\n",
      "(['云', '在', '8', '4', '2', '6', '5', '6'], '天空')\n",
      "(['云', '在', '8', '4', '2', '6', '5', '6', '6'], '天空')\n",
      "(['云', '在', '8', '4', '2', '6', '5', '6', '6', '4'], '天空')\n",
      "(['云', '在', '天空', '9'], '游荡')\n",
      "(['云', '在', '天空', '9', '6'], '游荡')\n",
      "(['云', '在', '天空', '9', '6', '8'], '游荡')\n",
      "(['云', '在', '天空', '9', '6', '8', '3'], '游荡')\n",
      "(['云', '在', '天空', '9', '6', '8', '3', '2'], '游荡')\n",
      "(['云', '在', '天空', '9', '6', '8', '3', '2', '6'], '游荡')\n",
      "(['云', '在', '天空', '9', '6', '8', '3', '2', '6', '4'], '游荡')\n",
      "(['云', '在', '天空', '游荡', '，', '8'], '它')\n",
      "(['云', '在', '天空', '游荡', '，', '8', '2'], '它')\n"
     ]
    }
   ],
   "execution_count": 4
  },
  {
   "metadata": {
    "ExecuteTime": {
     "end_time": "2025-06-04T14:22:37.330506Z",
     "start_time": "2025-06-04T14:22:30.739803Z"
    }
   },
   "cell_type": "code",
   "source": "augmentor.output_parquet()",
   "id": "76e5c0f0e0ae9539",
   "outputs": [
    {
     "data": {
      "text/plain": [
       "Creating parquet from Arrow format:   0%|          | 0/3749 [00:00<?, ?ba/s]"
      ],
      "application/vnd.jupyter.widget-view+json": {
       "version_major": 2,
       "version_minor": 0,
       "model_id": "a7897b79635a4fb4895b25c46c23a28f"
      }
     },
     "metadata": {},
     "output_type": "display_data"
    }
   ],
   "execution_count": 5
  },
  {
   "metadata": {},
   "cell_type": "code",
   "outputs": [],
   "execution_count": null,
   "source": "",
   "id": "a8c8de32d4451c37"
  }
 ],
 "metadata": {
  "kernelspec": {
   "display_name": "Python 3",
   "language": "python",
   "name": "python3"
  },
  "language_info": {
   "codemirror_mode": {
    "name": "ipython",
    "version": 2
   },
   "file_extension": ".py",
   "mimetype": "text/x-python",
   "name": "python",
   "nbconvert_exporter": "python",
   "pygments_lexer": "ipython2",
   "version": "2.7.6"
  }
 },
 "nbformat": 4,
 "nbformat_minor": 5
}
