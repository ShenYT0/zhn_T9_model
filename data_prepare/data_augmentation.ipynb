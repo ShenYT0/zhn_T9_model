{
 "cells": [
  {
   "cell_type": "code",
   "id": "initial_id",
   "metadata": {
    "collapsed": true,
    "ExecuteTime": {
     "end_time": "2025-06-03T16:18:57.340511Z",
     "start_time": "2025-06-03T16:18:57.334480Z"
    }
   },
   "source": "from data_augmentor import DataAugmentor",
   "outputs": [],
   "execution_count": 1
  },
  {
   "metadata": {
    "ExecuteTime": {
     "end_time": "2025-06-03T16:18:57.645302Z",
     "start_time": "2025-06-03T16:18:57.625395Z"
    }
   },
   "cell_type": "code",
   "source": [
    "augmentor = DataAugmentor()\n",
    "augmentor.load_sentences()"
   ],
   "id": "8b46ac5a548e8686",
   "outputs": [],
   "execution_count": 2
  },
  {
   "metadata": {
    "ExecuteTime": {
     "end_time": "2025-06-03T16:18:59.269924Z",
     "start_time": "2025-06-03T16:18:58.285217Z"
    }
   },
   "cell_type": "code",
   "source": "augmentor.augment_sentences()",
   "id": "f0f275bd1818ea9f",
   "outputs": [],
   "execution_count": 3
  },
  {
   "metadata": {
    "ExecuteTime": {
     "end_time": "2025-06-03T16:19:05.247848Z",
     "start_time": "2025-06-03T16:19:05.245445Z"
    }
   },
   "cell_type": "code",
   "source": "data = augmentor.get_data()",
   "id": "54581e2ca6a3c02e",
   "outputs": [],
   "execution_count": 4
  },
  {
   "metadata": {
    "ExecuteTime": {
     "end_time": "2025-06-03T16:20:20.573817Z",
     "start_time": "2025-06-03T16:20:20.571244Z"
    }
   },
   "cell_type": "code",
   "source": [
    "for sequence in data[0]:\n",
    "    print(sequence)"
   ],
   "id": "78fa4bc8e5d225d7",
   "outputs": [
    {
     "name": "stdout",
     "output_type": "stream",
     "text": [
      "['云']\n",
      "['云', '在']\n",
      "['云', '在', '天空']\n",
      "['云', '在', '天空', '游荡']\n",
      "['云', '在', '天空', '游荡', '，']\n",
      "['云', '在', '天空', '游荡', '，', '它']\n",
      "['云', '在', '天空', '游荡', '，', '它', '从']\n",
      "['云', '在', '天空', '游荡', '，', '它', '从', '远方']\n",
      "['云', '在', '天空', '游荡', '，', '它', '从', '远方', '飘']\n",
      "['云', '在', '天空', '游荡', '，', '它', '从', '远方', '飘', '来']\n",
      "['云', '在', '天空', '游荡', '，', '它', '从', '远方', '飘', '来', '，']\n",
      "['云', '在', '天空', '游荡', '，', '它', '从', '远方', '飘', '来', '，', '又']\n",
      "['云', '在', '天空', '游荡', '，', '它', '从', '远方', '飘', '来', '，', '又', '飘']\n",
      "['云', '在', '天空', '游荡', '，', '它', '从', '远方', '飘', '来', '，', '又', '飘', '向']\n",
      "['云', '在', '天空', '游荡', '，', '它', '从', '远方', '飘', '来', '，', '又', '飘', '向', '远方']\n",
      "['云', '在', '天空', '游荡', '，', '它', '从', '远方', '飘', '来', '，', '又', '飘', '向', '远方', '。']\n",
      "['在', '天空', '游荡', '，', '它', '从', '远方', '飘', '来', '，', '又', '飘', '向', '远方', '。']\n",
      "['天空', '游荡', '，', '它', '从', '远方', '飘', '来', '，', '又', '飘', '向', '远方', '。']\n",
      "['游荡', '，', '它', '从', '远方', '飘', '来', '，', '又', '飘', '向', '远方', '。']\n",
      "['，', '它', '从', '远方', '飘', '来', '，', '又', '飘', '向', '远方', '。']\n",
      "['它', '从', '远方', '飘', '来', '，', '又', '飘', '向', '远方', '。']\n",
      "['从', '远方', '飘', '来', '，', '又', '飘', '向', '远方', '。']\n",
      "['远方', '飘', '来', '，', '又', '飘', '向', '远方', '。']\n",
      "['飘', '来', '，', '又', '飘', '向', '远方', '。']\n",
      "['来', '，', '又', '飘', '向', '远方', '。']\n",
      "['，', '又', '飘', '向', '远方', '。']\n",
      "['又', '飘', '向', '远方', '。']\n",
      "['飘', '向', '远方', '。']\n",
      "['向', '远方', '。']\n",
      "['远方', '。']\n",
      "['。']\n"
     ]
    }
   ],
   "execution_count": 9
  },
  {
   "metadata": {},
   "cell_type": "code",
   "outputs": [],
   "execution_count": null,
   "source": "",
   "id": "76e5c0f0e0ae9539"
  }
 ],
 "metadata": {
  "kernelspec": {
   "display_name": "Python 3",
   "language": "python",
   "name": "python3"
  },
  "language_info": {
   "codemirror_mode": {
    "name": "ipython",
    "version": 2
   },
   "file_extension": ".py",
   "mimetype": "text/x-python",
   "name": "python",
   "nbconvert_exporter": "python",
   "pygments_lexer": "ipython2",
   "version": "2.7.6"
  }
 },
 "nbformat": 4,
 "nbformat_minor": 5
}
