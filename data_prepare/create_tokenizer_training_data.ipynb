{
 "cells": [
  {
   "cell_type": "code",
   "id": "initial_id",
   "metadata": {
    "collapsed": true,
    "ExecuteTime": {
     "end_time": "2025-06-04T15:22:20.505028Z",
     "start_time": "2025-06-04T15:22:20.502764Z"
    }
   },
   "source": [
    "from datasets import Dataset\n",
    "\n",
    "from tqdm import tqdm\n",
    "import os\n",
    "from collections import Counter"
   ],
   "outputs": [],
   "execution_count": 5
  },
  {
   "metadata": {
    "ExecuteTime": {
     "end_time": "2025-06-04T14:40:51.119809Z",
     "start_time": "2025-06-04T14:40:50.966874Z"
    }
   },
   "cell_type": "code",
   "source": "dataset = Dataset.from_parquet(\"../data/training_data/training_corpus.parquet\")",
   "id": "93e5c9a6a8cf4257",
   "outputs": [],
   "execution_count": 2
  },
  {
   "metadata": {
    "ExecuteTime": {
     "end_time": "2025-06-04T14:40:51.542168Z",
     "start_time": "2025-06-04T14:40:51.536286Z"
    }
   },
   "cell_type": "code",
   "source": "dataset",
   "id": "8cad4b1701e948f2",
   "outputs": [
    {
     "data": {
      "text/plain": [
       "Dataset({\n",
       "    features: ['input', 'label'],\n",
       "    num_rows: 3748964\n",
       "})"
      ]
     },
     "execution_count": 3,
     "metadata": {},
     "output_type": "execute_result"
    }
   ],
   "execution_count": 3
  },
  {
   "metadata": {
    "ExecuteTime": {
     "end_time": "2025-06-04T14:41:05.131182Z",
     "start_time": "2025-06-04T14:40:52.664847Z"
    }
   },
   "cell_type": "code",
   "source": [
    "def to_line(example):\n",
    "    return {\"line\": \" \".join(example[\"input\"])}\n",
    "\n",
    "# Add a new column with the joined text\n",
    "dataset_with_lines = dataset.map(to_line, num_proc=os.cpu_count() - 1)\n",
    "\n",
    "# Save to file efficiently\n",
    "with open(\"../data/training_data/tokenizer_corpus.txt\", \"w\", encoding=\"utf-8\") as f:\n",
    "    for line in tqdm(dataset_with_lines[\"line\"]):\n",
    "        f.write(line + \"\\n\")"
   ],
   "id": "53712800d040d7e4",
   "outputs": [
    {
     "data": {
      "text/plain": [
       "Map (num_proc=11):   0%|          | 0/3748964 [00:00<?, ? examples/s]"
      ],
      "application/vnd.jupyter.widget-view+json": {
       "version_major": 2,
       "version_minor": 0,
       "model_id": "5707efdaa3d9437ba4fe3db1cb95e0ea"
      }
     },
     "metadata": {},
     "output_type": "display_data"
    },
    {
     "name": "stderr",
     "output_type": "stream",
     "text": [
      "100%|██████████| 3748964/3748964 [00:00<00:00, 4460290.49it/s]\n"
     ]
    }
   ],
   "execution_count": 4
  },
  {
   "metadata": {
    "ExecuteTime": {
     "end_time": "2025-06-04T15:44:01.312311Z",
     "start_time": "2025-06-04T15:43:56.356756Z"
    }
   },
   "cell_type": "code",
   "source": [
    "with open(\"../data/training_data/tokenizer_corpus.txt\", \"r\", encoding=\"utf-8\") as f:\n",
    "    lines = f.readlines()\n",
    "\n",
    "words = []\n",
    "for line in lines:\n",
    "    words.extend(line.strip().split())\n",
    "\n",
    "words_count = Counter(words)\n",
    "vocab = set(words)"
   ],
   "id": "32db7cac1a0f484d",
   "outputs": [],
   "execution_count": 9
  },
  {
   "metadata": {
    "ExecuteTime": {
     "end_time": "2025-06-04T15:25:09.637078Z",
     "start_time": "2025-06-04T15:25:09.621357Z"
    }
   },
   "cell_type": "code",
   "source": [
    "# Save for jieba\n",
    "with open(\"../data/training_data/jieba_dict.txt\", \"w\", encoding=\"utf-8\") as f:\n",
    "    for word, freq in words_count.items():\n",
    "        f.write(f\"{word} {freq}\\n\")"
   ],
   "id": "ba01fca0be589af3",
   "outputs": [],
   "execution_count": 8
  },
  {
   "metadata": {
    "ExecuteTime": {
     "end_time": "2025-06-04T15:51:33.827665Z",
     "start_time": "2025-06-04T15:51:33.810641Z"
    }
   },
   "cell_type": "code",
   "source": [
    "with open(\"../custom_tokenizers/jieba_vocab.txt\", \"w\", encoding=\"utf-8\") as f:\n",
    "    for word in vocab:\n",
    "        f.write(word + \"\\n\")"
   ],
   "id": "d743b1893faa09ff",
   "outputs": [],
   "execution_count": 14
  },
  {
   "metadata": {},
   "cell_type": "code",
   "outputs": [],
   "execution_count": null,
   "source": "",
   "id": "c77689592dbe0824"
  }
 ],
 "metadata": {
  "kernelspec": {
   "display_name": "Python 3",
   "language": "python",
   "name": "python3"
  },
  "language_info": {
   "codemirror_mode": {
    "name": "ipython",
    "version": 2
   },
   "file_extension": ".py",
   "mimetype": "text/x-python",
   "name": "python",
   "nbconvert_exporter": "python",
   "pygments_lexer": "ipython2",
   "version": "2.7.6"
  }
 },
 "nbformat": 4,
 "nbformat_minor": 5
}
