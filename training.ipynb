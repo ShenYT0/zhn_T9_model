{
 "cells": [
  {
   "cell_type": "code",
   "execution_count": 20,
   "id": "6227a8d5",
   "metadata": {},
   "outputs": [],
   "source": [
    "import pandas as pd\n",
    "\n",
    "t9_dataset = 'data/zh_T9_dataset.tsv'\n",
    "# 加载原始数据\n",
    "df = pd.read_csv(t9_dataset, sep='\\t', header=None, names=['code', 'pinyin', 'hanzi'])\n",
    "df = df.dropna(subset=['pinyin', 'code', 'hanzi'])\n",
    "\n",
    "# 数据增强：拼音前缀 + 数字后缀混合\n",
    "augmented_inputs = []\n",
    "output_hanzi = []\n",
    "\n",
    "for code, pinyin, hanzi in zip(df['code'], df['pinyin'], df['hanzi']):\n",
    "    # 添加原始数字输入\n",
    "    augmented_inputs.append(code)\n",
    "    output_hanzi.append(hanzi)\n",
    "\n",
    "    # 添加拼音前缀 + 数字后缀组合\n",
    "    for i in range(1, len(pinyin)):\n",
    "        input_mixed = pinyin[:i] + code[i:]\n",
    "        augmented_inputs.append(input_mixed)\n",
    "        output_hanzi.append(hanzi)\n",
    "\n",
    "# 构建 DataFrame\n",
    "df_aug = pd.DataFrame({'input': augmented_inputs, 'output': output_hanzi})"
   ]
  },
  {
   "cell_type": "code",
   "execution_count": 21,
   "id": "72170cde",
   "metadata": {},
   "outputs": [
    {
     "ename": "",
     "evalue": "",
     "output_type": "error",
     "traceback": [
      "\u001b[1;31mThe Kernel crashed while executing code in the current cell or a previous cell. \n",
      "\u001b[1;31mPlease review the code in the cell(s) to identify a possible cause of the failure. \n",
      "\u001b[1;31mClick <a href='https://aka.ms/vscodeJupyterKernelCrash'>here</a> for more info. \n",
      "\u001b[1;31mView Jupyter <a href='command:jupyter.viewOutput'>log</a> for further details."
     ]
    }
   ],
   "source": [
    "from tensorflow.keras.preprocessing.text import Tokenizer\n",
    "from tensorflow.keras.preprocessing.sequence import pad_sequences\n",
    "from tensorflow.keras.utils import to_categorical\n",
    "\n",
    "# Tokenizers（字符级）\n",
    "input_tokenizer = Tokenizer(char_level=True)\n",
    "input_tokenizer.fit_on_texts(df_aug['input'])\n",
    "\n",
    "output_tokenizer = Tokenizer(char_level=True)\n",
    "output_tokenizer.fit_on_texts(df_aug['output'])\n",
    "\n",
    "# 序列化\n",
    "X_seq = input_tokenizer.texts_to_sequences(df_aug['input'])\n",
    "Y_seq = output_tokenizer.texts_to_sequences(df_aug['output'])\n",
    "\n",
    "# Padding\n",
    "max_input_len = max(len(seq) for seq in X_seq)\n",
    "max_output_len = max(len(seq) for seq in Y_seq)\n",
    "\n",
    "X_pad = pad_sequences(X_seq, maxlen=max_input_len, padding='post')\n",
    "Y_pad = pad_sequences(Y_seq, maxlen=max_output_len, padding='post')\n",
    "\n",
    "# One-hot 编码输出\n",
    "Y_cat = to_categorical(Y_pad, num_classes=len(output_tokenizer.word_index) + 1)"
   ]
  },
  {
   "cell_type": "code",
   "execution_count": null,
   "id": "892c33e7",
   "metadata": {},
   "outputs": [],
   "source": [
    "from sklearn.model_selection import train_test_split\n",
    "\n",
    "# 先划分训练/临时集\n",
    "X_train, X_tmp, Y_train, Y_tmp = train_test_split(X_pad, Y_cat, test_size=0.2, random_state=42)\n",
    "\n",
    "# 再从临时集中划分验证集和测试集（50/50）\n",
    "X_val, X_test, Y_val, Y_test = train_test_split(X_tmp, Y_tmp, test_size=0.5, random_state=42)\n",
    "\n",
    "print(f\"Train: {X_train.shape}, Val: {X_val.shape}, Test: {X_test.shape}\")"
   ]
  },
  {
   "cell_type": "code",
   "execution_count": null,
   "id": "38b7e18c",
   "metadata": {},
   "outputs": [],
   "source": [
    "from tensorflow.keras.models import Sequential\n",
    "from tensorflow.keras.layers import Embedding, LSTM, TimeDistributed, Dense\n",
    "\n",
    "vocab_size_in = len(input_tokenizer.word_index) + 1\n",
    "vocab_size_out = len(output_tokenizer.word_index) + 1\n",
    "\n",
    "model = Sequential([\n",
    "    Embedding(input_dim=vocab_size_in, output_dim=128, input_length=max_input_len),\n",
    "    LSTM(256, return_sequences=True),\n",
    "    TimeDistributed(Dense(vocab_size_out, activation='softmax'))\n",
    "])\n",
    "\n",
    "model.compile(optimizer='adam', loss='categorical_crossentropy', metrics=['accuracy'])\n",
    "model.summary()\n"
   ]
  },
  {
   "cell_type": "code",
   "execution_count": null,
   "id": "3c0088c6",
   "metadata": {},
   "outputs": [],
   "source": [
    "\n",
    "# 模型训练\n",
    "history = model.fit(\n",
    "    X_train, Y_train,\n",
    "    batch_size=64,\n",
    "    epochs=10,\n",
    "    validation_data=(X_val, Y_val)\n",
    ")"
   ]
  },
  {
   "cell_type": "code",
   "execution_count": null,
   "id": "1071f9d0",
   "metadata": {},
   "outputs": [],
   "source": [
    "import numpy as np\n",
    "\n",
    "# Evaluate on test set\n",
    "loss, accuracy = model.evaluate(X_test, Y_test)\n",
    "print(f\"Test Loss: {loss:.4f}, Test Accuracy: {accuracy:.4f}\")"
   ]
  },
  {
   "cell_type": "code",
   "execution_count": null,
   "id": "20a707b7",
   "metadata": {},
   "outputs": [],
   "source": [
    "def predict_hanzi(input_text):\n",
    "    seq = input_tokenizer.texts_to_sequences([input_text])\n",
    "    seq_pad = pad_sequences(seq, maxlen=max_input_len, padding='post')\n",
    "    pred = model.predict(seq_pad)[0]\n",
    "    pred_indices = np.argmax(pred, axis=-1)\n",
    "    hanzi_pred = [output_tokenizer.index_word.get(i, '') for i in pred_indices]\n",
    "    return ''.join(hanzi_pred).strip()"
   ]
  },
  {
   "cell_type": "code",
   "execution_count": null,
   "id": "b55537c0",
   "metadata": {},
   "outputs": [],
   "source": [
    "examples = [\"9265426\", \"326\", \"d26\", \"5268\"]\n",
    "\n",
    "for ex in examples:\n",
    "    print(f\"Input: {ex} => Predicted: {predict_hanzi(ex)}\")"
   ]
  }
 ],
 "metadata": {
  "language_info": {
   "name": "python"
  }
 },
 "nbformat": 4,
 "nbformat_minor": 5
}
