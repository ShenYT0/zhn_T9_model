{
 "cells": [
  {
   "cell_type": "code",
   "execution_count": null,
   "id": "ab5f4560",
   "metadata": {},
   "outputs": [],
   "source": [
    "import pandas as pd\n",
    "import numpy as np\n",
    "import tensorflow as tf\n",
    "from tensorflow import keras\n",
    "from tensorflow.keras import layers\n",
    "from sklearn.model_selection import train_test_split\n",
    "import re\n",
    "from collections import defaultdict, Counter\n"
   ]
  },
  {
   "cell_type": "code",
   "execution_count": null,
   "id": "d5c06571",
   "metadata": {},
   "outputs": [
    {
     "name": "stdout",
     "output_type": "stream",
     "text": [
      "Total samples: 1301608\n"
     ]
    }
   ],
   "source": [
    "sent_data_path = 'data/zh_sent_dataset.tsv'\n",
    "t9_data_path = 'data/zh_T9_dataset.tsv'\n",
    "\n",
    "sentences = pd.read_csv(sent_data_path, sep=\"\\t\", header=None, names=[\"sentence\"])\n",
    "codes = pd.read_csv(t9_data_path, sep=\"\\t\", header=None, names=[\"code\", \"char\"])\n",
    "\n",
    "# Build Nine-Key Code Mappings\n",
    "code2chars = defaultdict(list)\n",
    "char2code = {}\n",
    "\n",
    "for _, row in codes.iterrows():\n",
    "    code2chars[row.code].append(row.char)\n",
    "    char2code[row.char] = row.code\n",
    "\n",
    "# Build Training Samples\n",
    "# For each character in sentence, use previous text as context and current code as input\n",
    "\n",
    "samples = []\n",
    "\n",
    "window_size = 20  # Limit context length (in characters)\n",
    "\n",
    "for sentence in sentences[\"sentence\"]:\n",
    "    sentence = re.sub(r\"[^\\u4e00-\\u9fa5]\", \"\", sentence)  # Remove non-Chinese characters\n",
    "    for i in range(len(sentence)):\n",
    "        char = sentence[i]\n",
    "        code = char2code.get(char)\n",
    "        if code is None:\n",
    "            continue\n",
    "        context = sentence[max(0, i - window_size):i]\n",
    "        samples.append((context, code, char))\n",
    "\n",
    "print(f\"Total samples: {len(samples)}\")\n"
   ]
  },
  {
   "cell_type": "code",
   "execution_count": 12,
   "id": "0bd0a289",
   "metadata": {},
   "outputs": [],
   "source": [
    "\n",
    "# Build Vocabulary & Vectorization\n",
    "all_chars = sorted(set(char2code.keys()))\n",
    "char2idx = {c: i + 1 for i, c in enumerate(all_chars)}  # 0 用作 padding\n",
    "idx2char = {i: c for c, i in char2idx.items()}\n",
    "\n",
    "code_set = sorted(code2chars.keys())\n",
    "code2idx = {c: i + 1 for i, c in enumerate(code_set)}  # 0 为 padding\n",
    "\n",
    "max_context_len = window_size\n",
    "\n",
    "def encode_context(text):\n",
    "    return [char2idx.get(c, 0) for c in text][-max_context_len:]\n",
    "\n",
    "def encode_code(code):\n",
    "    return code2idx.get(code, 0)\n",
    "\n",
    "X_context = []\n",
    "X_code = []\n",
    "Y_char = []\n",
    "\n",
    "for ctx, code, char in samples:\n",
    "    X_context.append(encode_context(ctx))\n",
    "    X_code.append(encode_code(code))\n",
    "    Y_char.append(char2idx[char])\n",
    "\n",
    "# Padding\n",
    "X_context = keras.preprocessing.sequence.pad_sequences(X_context, maxlen=max_context_len, padding='pre')\n",
    "X_code = np.array(X_code)\n",
    "Y_char = np.array(Y_char)\n",
    "\n",
    "X_train_ctx, X_temp_ctx, X_train_code, X_temp_code, y_train, y_temp = train_test_split(\n",
    "    X_context, X_code, Y_char, test_size=0.2, random_state=42)\n",
    "\n",
    "X_val_ctx, X_test_ctx, X_val_code, X_test_code, y_val, y_test = train_test_split(\n",
    "    X_temp_ctx, X_temp_code, y_temp, test_size=0.5, random_state=42)\n"
   ]
  },
  {
   "cell_type": "code",
   "execution_count": null,
   "id": "26d883fc",
   "metadata": {},
   "outputs": [
    {
     "ename": "SyntaxError",
     "evalue": "invalid character '“' (U+201C) (1905046101.py, line 9)",
     "output_type": "error",
     "traceback": [
      "\u001b[0;36m  Cell \u001b[0;32mIn[16], line 9\u001b[0;36m\u001b[0m\n\u001b[0;31m    layers.LSTM(64, recurrent_activation=“sigmoid”)\u001b[0m\n\u001b[0m                                         ^\u001b[0m\n\u001b[0;31mSyntaxError\u001b[0m\u001b[0;31m:\u001b[0m invalid character '“' (U+201C)\n"
     ]
    }
   ],
   "source": [
    "vocab_size = len(char2idx) + 1\n",
    "code_vocab_size = len(code2idx) + 1\n",
    "embedding_dim = 64\n",
    "\n",
    "ctx_input = keras.Input(shape=(max_context_len,), name=\"context_input\")\n",
    "ctx_emb = layers.Embedding(input_dim=vocab_size, output_dim=embedding_dim, mask_zero=False)(ctx_input)\n",
    "ctx_emb = layers.Masking(mask_value=0.0)(ctx_emb)\n",
    "ctx_encoded = layers.Bidirectional(\n",
    "layers.LSTM(64, recurrent_activation=\"sigmoid\")\n",
    ")(ctx_emb)\n",
    "\n",
    "code_input = keras.Input(shape=(), dtype=tf.int32, name=\"code_input\")\n",
    "code_emb = layers.Embedding(input_dim=code_vocab_size, output_dim=32)(code_input)\n",
    "code_encoded = layers.Flatten()(code_emb)\n",
    "\n",
    "merged = layers.concatenate([ctx_encoded, code_encoded])\n",
    "hidden = layers.Dense(128, activation=\"relu\")(merged)\n",
    "output = layers.Dense(vocab_size, activation=\"softmax\")(hidden)\n",
    "\n",
    "model = keras.Model(inputs=[ctx_input, code_input], outputs=output)\n",
    "model.compile(optimizer=\"adam\", loss=\"sparse_categorical_crossentropy\", metrics=[\"accuracy\"])\n",
    "model.summary()\n"
   ]
  },
  {
   "cell_type": "code",
   "execution_count": 14,
   "id": "bf191add",
   "metadata": {},
   "outputs": [
    {
     "name": "stdout",
     "output_type": "stream",
     "text": [
      "Epoch 1/15\n"
     ]
    },
    {
     "name": "stderr",
     "output_type": "stream",
     "text": [
      "2025-05-30 02:13:10.593267: I tensorflow/core/framework/local_rendezvous.cc:405] Local rendezvous is aborting with status: INVALID_ARGUMENT: assertion failed: [You are passing a RNN mask that does not correspond to right-padded sequences, while using cuDNN, which is not supported. With cuDNN, RNN masks can only be used for right-padding, e.g. `[[True, True, False, False]]` would be a valid mask, but any mask that isn\\'t just contiguous `True`\\'s on the left and contiguous `False`\\'s on the right would be invalid. You can pass `use_cudnn=False` to your RNN layer to stop using cuDNN (this may be slower).]\n",
      "\t [[{{function_node __inference_one_step_on_data_13331}}{{node functional_3_1/bidirectional_3_1/forward_lstm_3_1/Assert/Assert}}]]\n",
      "2025-05-30 02:13:10.593289: I tensorflow/core/framework/local_rendezvous.cc:428] Local rendezvous send item cancelled. Key hash: 8248750667461394598\n"
     ]
    },
    {
     "ename": "InvalidArgumentError",
     "evalue": "Graph execution error:\n\nDetected at node functional_3_1/bidirectional_3_1/forward_lstm_3_1/Assert/Assert defined at (most recent call last):\n  File \"<frozen runpy>\", line 198, in _run_module_as_main\n\n  File \"<frozen runpy>\", line 88, in _run_code\n\n  File \"/Users/shen/.pyenv/versions/3.11.10/envs/keras/lib/python3.11/site-packages/ipykernel_launcher.py\", line 18, in <module>\n\n  File \"/Users/shen/.pyenv/versions/3.11.10/envs/keras/lib/python3.11/site-packages/traitlets/config/application.py\", line 1075, in launch_instance\n\n  File \"/Users/shen/.pyenv/versions/3.11.10/envs/keras/lib/python3.11/site-packages/ipykernel/kernelapp.py\", line 739, in start\n\n  File \"/Users/shen/.pyenv/versions/3.11.10/envs/keras/lib/python3.11/site-packages/tornado/platform/asyncio.py\", line 205, in start\n\n  File \"/Users/shen/.pyenv/versions/3.11.10/lib/python3.11/asyncio/base_events.py\", line 608, in run_forever\n\n  File \"/Users/shen/.pyenv/versions/3.11.10/lib/python3.11/asyncio/base_events.py\", line 1936, in _run_once\n\n  File \"/Users/shen/.pyenv/versions/3.11.10/lib/python3.11/asyncio/events.py\", line 84, in _run\n\n  File \"/Users/shen/.pyenv/versions/3.11.10/envs/keras/lib/python3.11/site-packages/ipykernel/kernelbase.py\", line 545, in dispatch_queue\n\n  File \"/Users/shen/.pyenv/versions/3.11.10/envs/keras/lib/python3.11/site-packages/ipykernel/kernelbase.py\", line 534, in process_one\n\n  File \"/Users/shen/.pyenv/versions/3.11.10/envs/keras/lib/python3.11/site-packages/ipykernel/kernelbase.py\", line 437, in dispatch_shell\n\n  File \"/Users/shen/.pyenv/versions/3.11.10/envs/keras/lib/python3.11/site-packages/ipykernel/ipkernel.py\", line 362, in execute_request\n\n  File \"/Users/shen/.pyenv/versions/3.11.10/envs/keras/lib/python3.11/site-packages/ipykernel/kernelbase.py\", line 778, in execute_request\n\n  File \"/Users/shen/.pyenv/versions/3.11.10/envs/keras/lib/python3.11/site-packages/ipykernel/ipkernel.py\", line 449, in do_execute\n\n  File \"/Users/shen/.pyenv/versions/3.11.10/envs/keras/lib/python3.11/site-packages/ipykernel/zmqshell.py\", line 549, in run_cell\n\n  File \"/Users/shen/.pyenv/versions/3.11.10/envs/keras/lib/python3.11/site-packages/IPython/core/interactiveshell.py\", line 3075, in run_cell\n\n  File \"/Users/shen/.pyenv/versions/3.11.10/envs/keras/lib/python3.11/site-packages/IPython/core/interactiveshell.py\", line 3130, in _run_cell\n\n  File \"/Users/shen/.pyenv/versions/3.11.10/envs/keras/lib/python3.11/site-packages/IPython/core/async_helpers.py\", line 128, in _pseudo_sync_runner\n\n  File \"/Users/shen/.pyenv/versions/3.11.10/envs/keras/lib/python3.11/site-packages/IPython/core/interactiveshell.py\", line 3334, in run_cell_async\n\n  File \"/Users/shen/.pyenv/versions/3.11.10/envs/keras/lib/python3.11/site-packages/IPython/core/interactiveshell.py\", line 3517, in run_ast_nodes\n\n  File \"/Users/shen/.pyenv/versions/3.11.10/envs/keras/lib/python3.11/site-packages/IPython/core/interactiveshell.py\", line 3577, in run_code\n\n  File \"/var/folders/s9/j56343l57_s2lw7_47rw2bpr0000gn/T/ipykernel_78109/13945941.py\", line 5, in <module>\n\n  File \"/Users/shen/.pyenv/versions/3.11.10/envs/keras/lib/python3.11/site-packages/keras/src/utils/traceback_utils.py\", line 117, in error_handler\n\n  File \"/Users/shen/.pyenv/versions/3.11.10/envs/keras/lib/python3.11/site-packages/keras/src/backend/tensorflow/trainer.py\", line 371, in fit\n\n  File \"/Users/shen/.pyenv/versions/3.11.10/envs/keras/lib/python3.11/site-packages/keras/src/backend/tensorflow/trainer.py\", line 219, in function\n\n  File \"/Users/shen/.pyenv/versions/3.11.10/envs/keras/lib/python3.11/site-packages/tensorflow/python/util/traceback_utils.py\", line 150, in error_handler\n\n  File \"/Users/shen/.pyenv/versions/3.11.10/envs/keras/lib/python3.11/site-packages/tensorflow/python/eager/polymorphic_function/polymorphic_function.py\", line 833, in __call__\n\n  File \"/Users/shen/.pyenv/versions/3.11.10/envs/keras/lib/python3.11/site-packages/tensorflow/python/eager/polymorphic_function/polymorphic_function.py\", line 889, in _call\n\n  File \"/Users/shen/.pyenv/versions/3.11.10/envs/keras/lib/python3.11/site-packages/tensorflow/python/eager/polymorphic_function/polymorphic_function.py\", line 696, in _initialize\n\n  File \"/Users/shen/.pyenv/versions/3.11.10/envs/keras/lib/python3.11/site-packages/tensorflow/python/eager/polymorphic_function/tracing_compilation.py\", line 178, in trace_function\n\n  File \"/Users/shen/.pyenv/versions/3.11.10/envs/keras/lib/python3.11/site-packages/tensorflow/python/eager/polymorphic_function/tracing_compilation.py\", line 283, in _maybe_define_function\n\n  File \"/Users/shen/.pyenv/versions/3.11.10/envs/keras/lib/python3.11/site-packages/tensorflow/python/eager/polymorphic_function/tracing_compilation.py\", line 310, in _create_concrete_function\n\n  File \"/Users/shen/.pyenv/versions/3.11.10/envs/keras/lib/python3.11/site-packages/tensorflow/python/framework/func_graph.py\", line 1059, in func_graph_from_py_func\n\n  File \"/Users/shen/.pyenv/versions/3.11.10/envs/keras/lib/python3.11/site-packages/tensorflow/python/eager/polymorphic_function/polymorphic_function.py\", line 599, in wrapped_fn\n\n  File \"/Users/shen/.pyenv/versions/3.11.10/envs/keras/lib/python3.11/site-packages/tensorflow/python/eager/polymorphic_function/autograph_util.py\", line 41, in autograph_handler\n\n  File \"/Users/shen/.pyenv/versions/3.11.10/envs/keras/lib/python3.11/site-packages/tensorflow/python/autograph/impl/api.py\", line 339, in converted_call\n\n  File \"/Users/shen/.pyenv/versions/3.11.10/envs/keras/lib/python3.11/site-packages/tensorflow/python/autograph/impl/api.py\", line 459, in _call_unconverted\n\n  File \"/Users/shen/.pyenv/versions/3.11.10/envs/keras/lib/python3.11/site-packages/tensorflow/python/autograph/impl/api.py\", line 643, in wrapper\n\n  File \"/Users/shen/.pyenv/versions/3.11.10/envs/keras/lib/python3.11/site-packages/keras/src/backend/tensorflow/trainer.py\", line 132, in multi_step_on_iterator\n\n  File \"/Users/shen/.pyenv/versions/3.11.10/envs/keras/lib/python3.11/site-packages/tensorflow/python/util/traceback_utils.py\", line 150, in error_handler\n\n  File \"/Users/shen/.pyenv/versions/3.11.10/envs/keras/lib/python3.11/site-packages/tensorflow/python/eager/polymorphic_function/polymorphic_function.py\", line 833, in __call__\n\n  File \"/Users/shen/.pyenv/versions/3.11.10/envs/keras/lib/python3.11/site-packages/tensorflow/python/eager/polymorphic_function/polymorphic_function.py\", line 906, in _call\n\n  File \"/Users/shen/.pyenv/versions/3.11.10/envs/keras/lib/python3.11/site-packages/tensorflow/python/eager/polymorphic_function/tracing_compilation.py\", line 132, in call_function\n\n  File \"/Users/shen/.pyenv/versions/3.11.10/envs/keras/lib/python3.11/site-packages/tensorflow/python/eager/polymorphic_function/tracing_compilation.py\", line 178, in trace_function\n\n  File \"/Users/shen/.pyenv/versions/3.11.10/envs/keras/lib/python3.11/site-packages/tensorflow/python/eager/polymorphic_function/tracing_compilation.py\", line 283, in _maybe_define_function\n\n  File \"/Users/shen/.pyenv/versions/3.11.10/envs/keras/lib/python3.11/site-packages/tensorflow/python/eager/polymorphic_function/tracing_compilation.py\", line 310, in _create_concrete_function\n\n  File \"/Users/shen/.pyenv/versions/3.11.10/envs/keras/lib/python3.11/site-packages/tensorflow/python/framework/func_graph.py\", line 1059, in func_graph_from_py_func\n\n  File \"/Users/shen/.pyenv/versions/3.11.10/envs/keras/lib/python3.11/site-packages/tensorflow/python/eager/polymorphic_function/polymorphic_function.py\", line 599, in wrapped_fn\n\n  File \"/Users/shen/.pyenv/versions/3.11.10/envs/keras/lib/python3.11/site-packages/tensorflow/python/eager/polymorphic_function/autograph_util.py\", line 41, in autograph_handler\n\n  File \"/Users/shen/.pyenv/versions/3.11.10/envs/keras/lib/python3.11/site-packages/tensorflow/python/autograph/impl/api.py\", line 331, in converted_call\n\n  File \"/Users/shen/.pyenv/versions/3.11.10/envs/keras/lib/python3.11/site-packages/tensorflow/python/autograph/impl/api.py\", line 459, in _call_unconverted\n\n  File \"/Users/shen/.pyenv/versions/3.11.10/envs/keras/lib/python3.11/site-packages/tensorflow/python/autograph/impl/api.py\", line 643, in wrapper\n\n  File \"/Users/shen/.pyenv/versions/3.11.10/envs/keras/lib/python3.11/site-packages/keras/src/backend/tensorflow/trainer.py\", line 113, in one_step_on_data\n\n  File \"/Users/shen/.pyenv/versions/3.11.10/envs/keras/lib/python3.11/site-packages/tensorflow/python/distribute/distribute_lib.py\", line 1673, in run\n\n  File \"/Users/shen/.pyenv/versions/3.11.10/envs/keras/lib/python3.11/site-packages/tensorflow/python/distribute/distribute_lib.py\", line 3263, in call_for_each_replica\n\n  File \"/Users/shen/.pyenv/versions/3.11.10/envs/keras/lib/python3.11/site-packages/tensorflow/python/distribute/distribute_lib.py\", line 4061, in _call_for_each_replica\n\n  File \"/Users/shen/.pyenv/versions/3.11.10/envs/keras/lib/python3.11/site-packages/tensorflow/python/autograph/impl/api.py\", line 643, in wrapper\n\n  File \"/Users/shen/.pyenv/versions/3.11.10/envs/keras/lib/python3.11/site-packages/keras/src/backend/tensorflow/trainer.py\", line 57, in train_step\n\n  File \"/Users/shen/.pyenv/versions/3.11.10/envs/keras/lib/python3.11/site-packages/keras/src/utils/traceback_utils.py\", line 117, in error_handler\n\n  File \"/Users/shen/.pyenv/versions/3.11.10/envs/keras/lib/python3.11/site-packages/keras/src/layers/layer.py\", line 908, in __call__\n\n  File \"/Users/shen/.pyenv/versions/3.11.10/envs/keras/lib/python3.11/site-packages/keras/src/utils/traceback_utils.py\", line 117, in error_handler\n\n  File \"/Users/shen/.pyenv/versions/3.11.10/envs/keras/lib/python3.11/site-packages/keras/src/ops/operation.py\", line 46, in __call__\n\n  File \"/Users/shen/.pyenv/versions/3.11.10/envs/keras/lib/python3.11/site-packages/keras/src/utils/traceback_utils.py\", line 156, in error_handler\n\n  File \"/Users/shen/.pyenv/versions/3.11.10/envs/keras/lib/python3.11/site-packages/keras/src/models/functional.py\", line 182, in call\n\n  File \"/Users/shen/.pyenv/versions/3.11.10/envs/keras/lib/python3.11/site-packages/keras/src/ops/function.py\", line 171, in _run_through_graph\n\n  File \"/Users/shen/.pyenv/versions/3.11.10/envs/keras/lib/python3.11/site-packages/keras/src/models/functional.py\", line 637, in call\n\n  File \"/Users/shen/.pyenv/versions/3.11.10/envs/keras/lib/python3.11/site-packages/keras/src/utils/traceback_utils.py\", line 117, in error_handler\n\n  File \"/Users/shen/.pyenv/versions/3.11.10/envs/keras/lib/python3.11/site-packages/keras/src/layers/layer.py\", line 908, in __call__\n\n  File \"/Users/shen/.pyenv/versions/3.11.10/envs/keras/lib/python3.11/site-packages/keras/src/utils/traceback_utils.py\", line 117, in error_handler\n\n  File \"/Users/shen/.pyenv/versions/3.11.10/envs/keras/lib/python3.11/site-packages/keras/src/ops/operation.py\", line 46, in __call__\n\n  File \"/Users/shen/.pyenv/versions/3.11.10/envs/keras/lib/python3.11/site-packages/keras/src/utils/traceback_utils.py\", line 156, in error_handler\n\n  File \"/Users/shen/.pyenv/versions/3.11.10/envs/keras/lib/python3.11/site-packages/keras/src/layers/rnn/bidirectional.py\", line 218, in call\n\n  File \"/Users/shen/.pyenv/versions/3.11.10/envs/keras/lib/python3.11/site-packages/keras/src/utils/traceback_utils.py\", line 117, in error_handler\n\n  File \"/Users/shen/.pyenv/versions/3.11.10/envs/keras/lib/python3.11/site-packages/keras/src/layers/layer.py\", line 908, in __call__\n\n  File \"/Users/shen/.pyenv/versions/3.11.10/envs/keras/lib/python3.11/site-packages/keras/src/utils/traceback_utils.py\", line 117, in error_handler\n\n  File \"/Users/shen/.pyenv/versions/3.11.10/envs/keras/lib/python3.11/site-packages/keras/src/ops/operation.py\", line 46, in __call__\n\n  File \"/Users/shen/.pyenv/versions/3.11.10/envs/keras/lib/python3.11/site-packages/keras/src/utils/traceback_utils.py\", line 156, in error_handler\n\n  File \"/Users/shen/.pyenv/versions/3.11.10/envs/keras/lib/python3.11/site-packages/keras/src/layers/rnn/lstm.py\", line 584, in call\n\n  File \"/Users/shen/.pyenv/versions/3.11.10/envs/keras/lib/python3.11/site-packages/keras/src/layers/rnn/rnn.py\", line 402, in call\n\n  File \"/Users/shen/.pyenv/versions/3.11.10/envs/keras/lib/python3.11/site-packages/keras/src/layers/rnn/lstm.py\", line 551, in inner_loop\n\n  File \"/Users/shen/.pyenv/versions/3.11.10/envs/keras/lib/python3.11/site-packages/keras/src/backend/tensorflow/rnn.py\", line 841, in lstm\n\n  File \"/Users/shen/.pyenv/versions/3.11.10/envs/keras/lib/python3.11/site-packages/keras/src/backend/tensorflow/rnn.py\", line 874, in _cudnn_lstm\n\n  File \"/Users/shen/.pyenv/versions/3.11.10/envs/keras/lib/python3.11/site-packages/keras/src/backend/tensorflow/rnn.py\", line 557, in _assert_valid_mask\n\n  File \"/Users/shen/.pyenv/versions/3.11.10/envs/keras/lib/python3.11/site-packages/tensorflow/python/util/traceback_utils.py\", line 150, in error_handler\n\n  File \"/Users/shen/.pyenv/versions/3.11.10/envs/keras/lib/python3.11/site-packages/tensorflow/python/util/dispatch.py\", line 1260, in op_dispatch_handler\n\n  File \"/Users/shen/.pyenv/versions/3.11.10/envs/keras/lib/python3.11/site-packages/tensorflow/python/util/tf_should_use.py\", line 288, in wrapped\n\n  File \"/Users/shen/.pyenv/versions/3.11.10/envs/keras/lib/python3.11/site-packages/tensorflow/python/ops/control_flow_assert.py\", line 115, in Assert\n\n  File \"/Users/shen/.pyenv/versions/3.11.10/envs/keras/lib/python3.11/site-packages/tensorflow/python/ops/gen_logging_ops.py\", line 62, in _assert\n\n  File \"/Users/shen/.pyenv/versions/3.11.10/envs/keras/lib/python3.11/site-packages/tensorflow/python/framework/op_def_library.py\", line 796, in _apply_op_helper\n\n  File \"/Users/shen/.pyenv/versions/3.11.10/envs/keras/lib/python3.11/site-packages/tensorflow/python/framework/func_graph.py\", line 670, in _create_op_internal\n\n  File \"/Users/shen/.pyenv/versions/3.11.10/envs/keras/lib/python3.11/site-packages/tensorflow/python/framework/ops.py\", line 2701, in _create_op_internal\n\n  File \"/Users/shen/.pyenv/versions/3.11.10/envs/keras/lib/python3.11/site-packages/tensorflow/python/framework/ops.py\", line 1196, in from_node_def\n\n  File \"/Users/shen/.pyenv/versions/3.11.10/envs/keras/lib/python3.11/site-packages/tensorflow/python/util/traceback_utils.py\", line 150, in error_handler\n\n  File \"/Users/shen/.pyenv/versions/3.11.10/envs/keras/lib/python3.11/site-packages/tensorflow/python/framework/ops.py\", line 1062, in _create_c_op\n\n  File \"/Users/shen/.pyenv/versions/3.11.10/envs/keras/lib/python3.11/site-packages/tensorflow/python/util/tf_stack.py\", line 162, in extract_stack\n\nassertion failed: [You are passing a RNN mask that does not correspond to right-padded sequences, while using cuDNN, which is not supported. With cuDNN, RNN masks can only be used for right-padding, e.g. `[[True, True, False, False]]` would be a valid mask, but any mask that isn\\'t just contiguous `True`\\'s on the left and contiguous `False`\\'s on the right would be invalid. You can pass `use_cudnn=False` to your RNN layer to stop using cuDNN (this may be slower).]\n\t [[{{node functional_3_1/bidirectional_3_1/forward_lstm_3_1/Assert/Assert}}]] [Op:__inference_multi_step_on_iterator_13420]",
     "output_type": "error",
     "traceback": [
      "\u001b[0;31m---------------------------------------------------------------------------\u001b[0m",
      "\u001b[0;31mInvalidArgumentError\u001b[0m                      Traceback (most recent call last)",
      "Cell \u001b[0;32mIn[14], line 5\u001b[0m\n\u001b[1;32m      1\u001b[0m callbacks \u001b[38;5;241m=\u001b[39m [\n\u001b[1;32m      2\u001b[0m     keras\u001b[38;5;241m.\u001b[39mcallbacks\u001b[38;5;241m.\u001b[39mEarlyStopping(patience\u001b[38;5;241m=\u001b[39m\u001b[38;5;241m3\u001b[39m, restore_best_weights\u001b[38;5;241m=\u001b[39m\u001b[38;5;28;01mTrue\u001b[39;00m)\n\u001b[1;32m      3\u001b[0m ]\n\u001b[0;32m----> 5\u001b[0m history \u001b[38;5;241m=\u001b[39m \u001b[43mmodel\u001b[49m\u001b[38;5;241;43m.\u001b[39;49m\u001b[43mfit\u001b[49m\u001b[43m(\u001b[49m\n\u001b[1;32m      6\u001b[0m \u001b[43m    \u001b[49m\u001b[43m{\u001b[49m\u001b[38;5;124;43m\"\u001b[39;49m\u001b[38;5;124;43mcontext_input\u001b[39;49m\u001b[38;5;124;43m\"\u001b[39;49m\u001b[43m:\u001b[49m\u001b[43m \u001b[49m\u001b[43mX_train_ctx\u001b[49m\u001b[43m,\u001b[49m\u001b[43m \u001b[49m\u001b[38;5;124;43m\"\u001b[39;49m\u001b[38;5;124;43mcode_input\u001b[39;49m\u001b[38;5;124;43m\"\u001b[39;49m\u001b[43m:\u001b[49m\u001b[43m \u001b[49m\u001b[43mX_train_code\u001b[49m\u001b[43m}\u001b[49m\u001b[43m,\u001b[49m\n\u001b[1;32m      7\u001b[0m \u001b[43m    \u001b[49m\u001b[43my_train\u001b[49m\u001b[43m,\u001b[49m\n\u001b[1;32m      8\u001b[0m \u001b[43m    \u001b[49m\u001b[43mvalidation_data\u001b[49m\u001b[38;5;241;43m=\u001b[39;49m\u001b[43m(\u001b[49m\n\u001b[1;32m      9\u001b[0m \u001b[43m        \u001b[49m\u001b[43m{\u001b[49m\u001b[38;5;124;43m\"\u001b[39;49m\u001b[38;5;124;43mcontext_input\u001b[39;49m\u001b[38;5;124;43m\"\u001b[39;49m\u001b[43m:\u001b[49m\u001b[43m \u001b[49m\u001b[43mX_val_ctx\u001b[49m\u001b[43m,\u001b[49m\u001b[43m \u001b[49m\u001b[38;5;124;43m\"\u001b[39;49m\u001b[38;5;124;43mcode_input\u001b[39;49m\u001b[38;5;124;43m\"\u001b[39;49m\u001b[43m:\u001b[49m\u001b[43m \u001b[49m\u001b[43mX_val_code\u001b[49m\u001b[43m}\u001b[49m\u001b[43m,\u001b[49m\n\u001b[1;32m     10\u001b[0m \u001b[43m        \u001b[49m\u001b[43my_val\u001b[49m\n\u001b[1;32m     11\u001b[0m \u001b[43m    \u001b[49m\u001b[43m)\u001b[49m\u001b[43m,\u001b[49m\n\u001b[1;32m     12\u001b[0m \u001b[43m    \u001b[49m\u001b[43mepochs\u001b[49m\u001b[38;5;241;43m=\u001b[39;49m\u001b[38;5;241;43m15\u001b[39;49m\u001b[43m,\u001b[49m\n\u001b[1;32m     13\u001b[0m \u001b[43m    \u001b[49m\u001b[43mbatch_size\u001b[49m\u001b[38;5;241;43m=\u001b[39;49m\u001b[38;5;241;43m256\u001b[39;49m\u001b[43m,\u001b[49m\n\u001b[1;32m     14\u001b[0m \u001b[43m    \u001b[49m\u001b[43mcallbacks\u001b[49m\u001b[38;5;241;43m=\u001b[39;49m\u001b[43mcallbacks\u001b[49m\n\u001b[1;32m     15\u001b[0m \u001b[43m)\u001b[49m\n",
      "File \u001b[0;32m~/.pyenv/versions/3.11.10/envs/keras/lib/python3.11/site-packages/keras/src/utils/traceback_utils.py:122\u001b[0m, in \u001b[0;36mfilter_traceback.<locals>.error_handler\u001b[0;34m(*args, **kwargs)\u001b[0m\n\u001b[1;32m    119\u001b[0m     filtered_tb \u001b[38;5;241m=\u001b[39m _process_traceback_frames(e\u001b[38;5;241m.\u001b[39m__traceback__)\n\u001b[1;32m    120\u001b[0m     \u001b[38;5;66;03m# To get the full stack trace, call:\u001b[39;00m\n\u001b[1;32m    121\u001b[0m     \u001b[38;5;66;03m# `keras.config.disable_traceback_filtering()`\u001b[39;00m\n\u001b[0;32m--> 122\u001b[0m     \u001b[38;5;28;01mraise\u001b[39;00m e\u001b[38;5;241m.\u001b[39mwith_traceback(filtered_tb) \u001b[38;5;28;01mfrom\u001b[39;00m\u001b[38;5;250m \u001b[39m\u001b[38;5;28;01mNone\u001b[39;00m\n\u001b[1;32m    123\u001b[0m \u001b[38;5;28;01mfinally\u001b[39;00m:\n\u001b[1;32m    124\u001b[0m     \u001b[38;5;28;01mdel\u001b[39;00m filtered_tb\n",
      "File \u001b[0;32m~/.pyenv/versions/3.11.10/envs/keras/lib/python3.11/site-packages/tensorflow/python/eager/execute.py:53\u001b[0m, in \u001b[0;36mquick_execute\u001b[0;34m(op_name, num_outputs, inputs, attrs, ctx, name)\u001b[0m\n\u001b[1;32m     51\u001b[0m \u001b[38;5;28;01mtry\u001b[39;00m:\n\u001b[1;32m     52\u001b[0m   ctx\u001b[38;5;241m.\u001b[39mensure_initialized()\n\u001b[0;32m---> 53\u001b[0m   tensors \u001b[38;5;241m=\u001b[39m pywrap_tfe\u001b[38;5;241m.\u001b[39mTFE_Py_Execute(ctx\u001b[38;5;241m.\u001b[39m_handle, device_name, op_name,\n\u001b[1;32m     54\u001b[0m                                       inputs, attrs, num_outputs)\n\u001b[1;32m     55\u001b[0m \u001b[38;5;28;01mexcept\u001b[39;00m core\u001b[38;5;241m.\u001b[39m_NotOkStatusException \u001b[38;5;28;01mas\u001b[39;00m e:\n\u001b[1;32m     56\u001b[0m   \u001b[38;5;28;01mif\u001b[39;00m name \u001b[38;5;129;01mis\u001b[39;00m \u001b[38;5;129;01mnot\u001b[39;00m \u001b[38;5;28;01mNone\u001b[39;00m:\n",
      "\u001b[0;31mInvalidArgumentError\u001b[0m: Graph execution error:\n\nDetected at node functional_3_1/bidirectional_3_1/forward_lstm_3_1/Assert/Assert defined at (most recent call last):\n  File \"<frozen runpy>\", line 198, in _run_module_as_main\n\n  File \"<frozen runpy>\", line 88, in _run_code\n\n  File \"/Users/shen/.pyenv/versions/3.11.10/envs/keras/lib/python3.11/site-packages/ipykernel_launcher.py\", line 18, in <module>\n\n  File \"/Users/shen/.pyenv/versions/3.11.10/envs/keras/lib/python3.11/site-packages/traitlets/config/application.py\", line 1075, in launch_instance\n\n  File \"/Users/shen/.pyenv/versions/3.11.10/envs/keras/lib/python3.11/site-packages/ipykernel/kernelapp.py\", line 739, in start\n\n  File \"/Users/shen/.pyenv/versions/3.11.10/envs/keras/lib/python3.11/site-packages/tornado/platform/asyncio.py\", line 205, in start\n\n  File \"/Users/shen/.pyenv/versions/3.11.10/lib/python3.11/asyncio/base_events.py\", line 608, in run_forever\n\n  File \"/Users/shen/.pyenv/versions/3.11.10/lib/python3.11/asyncio/base_events.py\", line 1936, in _run_once\n\n  File \"/Users/shen/.pyenv/versions/3.11.10/lib/python3.11/asyncio/events.py\", line 84, in _run\n\n  File \"/Users/shen/.pyenv/versions/3.11.10/envs/keras/lib/python3.11/site-packages/ipykernel/kernelbase.py\", line 545, in dispatch_queue\n\n  File \"/Users/shen/.pyenv/versions/3.11.10/envs/keras/lib/python3.11/site-packages/ipykernel/kernelbase.py\", line 534, in process_one\n\n  File \"/Users/shen/.pyenv/versions/3.11.10/envs/keras/lib/python3.11/site-packages/ipykernel/kernelbase.py\", line 437, in dispatch_shell\n\n  File \"/Users/shen/.pyenv/versions/3.11.10/envs/keras/lib/python3.11/site-packages/ipykernel/ipkernel.py\", line 362, in execute_request\n\n  File \"/Users/shen/.pyenv/versions/3.11.10/envs/keras/lib/python3.11/site-packages/ipykernel/kernelbase.py\", line 778, in execute_request\n\n  File \"/Users/shen/.pyenv/versions/3.11.10/envs/keras/lib/python3.11/site-packages/ipykernel/ipkernel.py\", line 449, in do_execute\n\n  File \"/Users/shen/.pyenv/versions/3.11.10/envs/keras/lib/python3.11/site-packages/ipykernel/zmqshell.py\", line 549, in run_cell\n\n  File \"/Users/shen/.pyenv/versions/3.11.10/envs/keras/lib/python3.11/site-packages/IPython/core/interactiveshell.py\", line 3075, in run_cell\n\n  File \"/Users/shen/.pyenv/versions/3.11.10/envs/keras/lib/python3.11/site-packages/IPython/core/interactiveshell.py\", line 3130, in _run_cell\n\n  File \"/Users/shen/.pyenv/versions/3.11.10/envs/keras/lib/python3.11/site-packages/IPython/core/async_helpers.py\", line 128, in _pseudo_sync_runner\n\n  File \"/Users/shen/.pyenv/versions/3.11.10/envs/keras/lib/python3.11/site-packages/IPython/core/interactiveshell.py\", line 3334, in run_cell_async\n\n  File \"/Users/shen/.pyenv/versions/3.11.10/envs/keras/lib/python3.11/site-packages/IPython/core/interactiveshell.py\", line 3517, in run_ast_nodes\n\n  File \"/Users/shen/.pyenv/versions/3.11.10/envs/keras/lib/python3.11/site-packages/IPython/core/interactiveshell.py\", line 3577, in run_code\n\n  File \"/var/folders/s9/j56343l57_s2lw7_47rw2bpr0000gn/T/ipykernel_78109/13945941.py\", line 5, in <module>\n\n  File \"/Users/shen/.pyenv/versions/3.11.10/envs/keras/lib/python3.11/site-packages/keras/src/utils/traceback_utils.py\", line 117, in error_handler\n\n  File \"/Users/shen/.pyenv/versions/3.11.10/envs/keras/lib/python3.11/site-packages/keras/src/backend/tensorflow/trainer.py\", line 371, in fit\n\n  File \"/Users/shen/.pyenv/versions/3.11.10/envs/keras/lib/python3.11/site-packages/keras/src/backend/tensorflow/trainer.py\", line 219, in function\n\n  File \"/Users/shen/.pyenv/versions/3.11.10/envs/keras/lib/python3.11/site-packages/tensorflow/python/util/traceback_utils.py\", line 150, in error_handler\n\n  File \"/Users/shen/.pyenv/versions/3.11.10/envs/keras/lib/python3.11/site-packages/tensorflow/python/eager/polymorphic_function/polymorphic_function.py\", line 833, in __call__\n\n  File \"/Users/shen/.pyenv/versions/3.11.10/envs/keras/lib/python3.11/site-packages/tensorflow/python/eager/polymorphic_function/polymorphic_function.py\", line 889, in _call\n\n  File \"/Users/shen/.pyenv/versions/3.11.10/envs/keras/lib/python3.11/site-packages/tensorflow/python/eager/polymorphic_function/polymorphic_function.py\", line 696, in _initialize\n\n  File \"/Users/shen/.pyenv/versions/3.11.10/envs/keras/lib/python3.11/site-packages/tensorflow/python/eager/polymorphic_function/tracing_compilation.py\", line 178, in trace_function\n\n  File \"/Users/shen/.pyenv/versions/3.11.10/envs/keras/lib/python3.11/site-packages/tensorflow/python/eager/polymorphic_function/tracing_compilation.py\", line 283, in _maybe_define_function\n\n  File \"/Users/shen/.pyenv/versions/3.11.10/envs/keras/lib/python3.11/site-packages/tensorflow/python/eager/polymorphic_function/tracing_compilation.py\", line 310, in _create_concrete_function\n\n  File \"/Users/shen/.pyenv/versions/3.11.10/envs/keras/lib/python3.11/site-packages/tensorflow/python/framework/func_graph.py\", line 1059, in func_graph_from_py_func\n\n  File \"/Users/shen/.pyenv/versions/3.11.10/envs/keras/lib/python3.11/site-packages/tensorflow/python/eager/polymorphic_function/polymorphic_function.py\", line 599, in wrapped_fn\n\n  File \"/Users/shen/.pyenv/versions/3.11.10/envs/keras/lib/python3.11/site-packages/tensorflow/python/eager/polymorphic_function/autograph_util.py\", line 41, in autograph_handler\n\n  File \"/Users/shen/.pyenv/versions/3.11.10/envs/keras/lib/python3.11/site-packages/tensorflow/python/autograph/impl/api.py\", line 339, in converted_call\n\n  File \"/Users/shen/.pyenv/versions/3.11.10/envs/keras/lib/python3.11/site-packages/tensorflow/python/autograph/impl/api.py\", line 459, in _call_unconverted\n\n  File \"/Users/shen/.pyenv/versions/3.11.10/envs/keras/lib/python3.11/site-packages/tensorflow/python/autograph/impl/api.py\", line 643, in wrapper\n\n  File \"/Users/shen/.pyenv/versions/3.11.10/envs/keras/lib/python3.11/site-packages/keras/src/backend/tensorflow/trainer.py\", line 132, in multi_step_on_iterator\n\n  File \"/Users/shen/.pyenv/versions/3.11.10/envs/keras/lib/python3.11/site-packages/tensorflow/python/util/traceback_utils.py\", line 150, in error_handler\n\n  File \"/Users/shen/.pyenv/versions/3.11.10/envs/keras/lib/python3.11/site-packages/tensorflow/python/eager/polymorphic_function/polymorphic_function.py\", line 833, in __call__\n\n  File \"/Users/shen/.pyenv/versions/3.11.10/envs/keras/lib/python3.11/site-packages/tensorflow/python/eager/polymorphic_function/polymorphic_function.py\", line 906, in _call\n\n  File \"/Users/shen/.pyenv/versions/3.11.10/envs/keras/lib/python3.11/site-packages/tensorflow/python/eager/polymorphic_function/tracing_compilation.py\", line 132, in call_function\n\n  File \"/Users/shen/.pyenv/versions/3.11.10/envs/keras/lib/python3.11/site-packages/tensorflow/python/eager/polymorphic_function/tracing_compilation.py\", line 178, in trace_function\n\n  File \"/Users/shen/.pyenv/versions/3.11.10/envs/keras/lib/python3.11/site-packages/tensorflow/python/eager/polymorphic_function/tracing_compilation.py\", line 283, in _maybe_define_function\n\n  File \"/Users/shen/.pyenv/versions/3.11.10/envs/keras/lib/python3.11/site-packages/tensorflow/python/eager/polymorphic_function/tracing_compilation.py\", line 310, in _create_concrete_function\n\n  File \"/Users/shen/.pyenv/versions/3.11.10/envs/keras/lib/python3.11/site-packages/tensorflow/python/framework/func_graph.py\", line 1059, in func_graph_from_py_func\n\n  File \"/Users/shen/.pyenv/versions/3.11.10/envs/keras/lib/python3.11/site-packages/tensorflow/python/eager/polymorphic_function/polymorphic_function.py\", line 599, in wrapped_fn\n\n  File \"/Users/shen/.pyenv/versions/3.11.10/envs/keras/lib/python3.11/site-packages/tensorflow/python/eager/polymorphic_function/autograph_util.py\", line 41, in autograph_handler\n\n  File \"/Users/shen/.pyenv/versions/3.11.10/envs/keras/lib/python3.11/site-packages/tensorflow/python/autograph/impl/api.py\", line 331, in converted_call\n\n  File \"/Users/shen/.pyenv/versions/3.11.10/envs/keras/lib/python3.11/site-packages/tensorflow/python/autograph/impl/api.py\", line 459, in _call_unconverted\n\n  File \"/Users/shen/.pyenv/versions/3.11.10/envs/keras/lib/python3.11/site-packages/tensorflow/python/autograph/impl/api.py\", line 643, in wrapper\n\n  File \"/Users/shen/.pyenv/versions/3.11.10/envs/keras/lib/python3.11/site-packages/keras/src/backend/tensorflow/trainer.py\", line 113, in one_step_on_data\n\n  File \"/Users/shen/.pyenv/versions/3.11.10/envs/keras/lib/python3.11/site-packages/tensorflow/python/distribute/distribute_lib.py\", line 1673, in run\n\n  File \"/Users/shen/.pyenv/versions/3.11.10/envs/keras/lib/python3.11/site-packages/tensorflow/python/distribute/distribute_lib.py\", line 3263, in call_for_each_replica\n\n  File \"/Users/shen/.pyenv/versions/3.11.10/envs/keras/lib/python3.11/site-packages/tensorflow/python/distribute/distribute_lib.py\", line 4061, in _call_for_each_replica\n\n  File \"/Users/shen/.pyenv/versions/3.11.10/envs/keras/lib/python3.11/site-packages/tensorflow/python/autograph/impl/api.py\", line 643, in wrapper\n\n  File \"/Users/shen/.pyenv/versions/3.11.10/envs/keras/lib/python3.11/site-packages/keras/src/backend/tensorflow/trainer.py\", line 57, in train_step\n\n  File \"/Users/shen/.pyenv/versions/3.11.10/envs/keras/lib/python3.11/site-packages/keras/src/utils/traceback_utils.py\", line 117, in error_handler\n\n  File \"/Users/shen/.pyenv/versions/3.11.10/envs/keras/lib/python3.11/site-packages/keras/src/layers/layer.py\", line 908, in __call__\n\n  File \"/Users/shen/.pyenv/versions/3.11.10/envs/keras/lib/python3.11/site-packages/keras/src/utils/traceback_utils.py\", line 117, in error_handler\n\n  File \"/Users/shen/.pyenv/versions/3.11.10/envs/keras/lib/python3.11/site-packages/keras/src/ops/operation.py\", line 46, in __call__\n\n  File \"/Users/shen/.pyenv/versions/3.11.10/envs/keras/lib/python3.11/site-packages/keras/src/utils/traceback_utils.py\", line 156, in error_handler\n\n  File \"/Users/shen/.pyenv/versions/3.11.10/envs/keras/lib/python3.11/site-packages/keras/src/models/functional.py\", line 182, in call\n\n  File \"/Users/shen/.pyenv/versions/3.11.10/envs/keras/lib/python3.11/site-packages/keras/src/ops/function.py\", line 171, in _run_through_graph\n\n  File \"/Users/shen/.pyenv/versions/3.11.10/envs/keras/lib/python3.11/site-packages/keras/src/models/functional.py\", line 637, in call\n\n  File \"/Users/shen/.pyenv/versions/3.11.10/envs/keras/lib/python3.11/site-packages/keras/src/utils/traceback_utils.py\", line 117, in error_handler\n\n  File \"/Users/shen/.pyenv/versions/3.11.10/envs/keras/lib/python3.11/site-packages/keras/src/layers/layer.py\", line 908, in __call__\n\n  File \"/Users/shen/.pyenv/versions/3.11.10/envs/keras/lib/python3.11/site-packages/keras/src/utils/traceback_utils.py\", line 117, in error_handler\n\n  File \"/Users/shen/.pyenv/versions/3.11.10/envs/keras/lib/python3.11/site-packages/keras/src/ops/operation.py\", line 46, in __call__\n\n  File \"/Users/shen/.pyenv/versions/3.11.10/envs/keras/lib/python3.11/site-packages/keras/src/utils/traceback_utils.py\", line 156, in error_handler\n\n  File \"/Users/shen/.pyenv/versions/3.11.10/envs/keras/lib/python3.11/site-packages/keras/src/layers/rnn/bidirectional.py\", line 218, in call\n\n  File \"/Users/shen/.pyenv/versions/3.11.10/envs/keras/lib/python3.11/site-packages/keras/src/utils/traceback_utils.py\", line 117, in error_handler\n\n  File \"/Users/shen/.pyenv/versions/3.11.10/envs/keras/lib/python3.11/site-packages/keras/src/layers/layer.py\", line 908, in __call__\n\n  File \"/Users/shen/.pyenv/versions/3.11.10/envs/keras/lib/python3.11/site-packages/keras/src/utils/traceback_utils.py\", line 117, in error_handler\n\n  File \"/Users/shen/.pyenv/versions/3.11.10/envs/keras/lib/python3.11/site-packages/keras/src/ops/operation.py\", line 46, in __call__\n\n  File \"/Users/shen/.pyenv/versions/3.11.10/envs/keras/lib/python3.11/site-packages/keras/src/utils/traceback_utils.py\", line 156, in error_handler\n\n  File \"/Users/shen/.pyenv/versions/3.11.10/envs/keras/lib/python3.11/site-packages/keras/src/layers/rnn/lstm.py\", line 584, in call\n\n  File \"/Users/shen/.pyenv/versions/3.11.10/envs/keras/lib/python3.11/site-packages/keras/src/layers/rnn/rnn.py\", line 402, in call\n\n  File \"/Users/shen/.pyenv/versions/3.11.10/envs/keras/lib/python3.11/site-packages/keras/src/layers/rnn/lstm.py\", line 551, in inner_loop\n\n  File \"/Users/shen/.pyenv/versions/3.11.10/envs/keras/lib/python3.11/site-packages/keras/src/backend/tensorflow/rnn.py\", line 841, in lstm\n\n  File \"/Users/shen/.pyenv/versions/3.11.10/envs/keras/lib/python3.11/site-packages/keras/src/backend/tensorflow/rnn.py\", line 874, in _cudnn_lstm\n\n  File \"/Users/shen/.pyenv/versions/3.11.10/envs/keras/lib/python3.11/site-packages/keras/src/backend/tensorflow/rnn.py\", line 557, in _assert_valid_mask\n\n  File \"/Users/shen/.pyenv/versions/3.11.10/envs/keras/lib/python3.11/site-packages/tensorflow/python/util/traceback_utils.py\", line 150, in error_handler\n\n  File \"/Users/shen/.pyenv/versions/3.11.10/envs/keras/lib/python3.11/site-packages/tensorflow/python/util/dispatch.py\", line 1260, in op_dispatch_handler\n\n  File \"/Users/shen/.pyenv/versions/3.11.10/envs/keras/lib/python3.11/site-packages/tensorflow/python/util/tf_should_use.py\", line 288, in wrapped\n\n  File \"/Users/shen/.pyenv/versions/3.11.10/envs/keras/lib/python3.11/site-packages/tensorflow/python/ops/control_flow_assert.py\", line 115, in Assert\n\n  File \"/Users/shen/.pyenv/versions/3.11.10/envs/keras/lib/python3.11/site-packages/tensorflow/python/ops/gen_logging_ops.py\", line 62, in _assert\n\n  File \"/Users/shen/.pyenv/versions/3.11.10/envs/keras/lib/python3.11/site-packages/tensorflow/python/framework/op_def_library.py\", line 796, in _apply_op_helper\n\n  File \"/Users/shen/.pyenv/versions/3.11.10/envs/keras/lib/python3.11/site-packages/tensorflow/python/framework/func_graph.py\", line 670, in _create_op_internal\n\n  File \"/Users/shen/.pyenv/versions/3.11.10/envs/keras/lib/python3.11/site-packages/tensorflow/python/framework/ops.py\", line 2701, in _create_op_internal\n\n  File \"/Users/shen/.pyenv/versions/3.11.10/envs/keras/lib/python3.11/site-packages/tensorflow/python/framework/ops.py\", line 1196, in from_node_def\n\n  File \"/Users/shen/.pyenv/versions/3.11.10/envs/keras/lib/python3.11/site-packages/tensorflow/python/util/traceback_utils.py\", line 150, in error_handler\n\n  File \"/Users/shen/.pyenv/versions/3.11.10/envs/keras/lib/python3.11/site-packages/tensorflow/python/framework/ops.py\", line 1062, in _create_c_op\n\n  File \"/Users/shen/.pyenv/versions/3.11.10/envs/keras/lib/python3.11/site-packages/tensorflow/python/util/tf_stack.py\", line 162, in extract_stack\n\nassertion failed: [You are passing a RNN mask that does not correspond to right-padded sequences, while using cuDNN, which is not supported. With cuDNN, RNN masks can only be used for right-padding, e.g. `[[True, True, False, False]]` would be a valid mask, but any mask that isn\\'t just contiguous `True`\\'s on the left and contiguous `False`\\'s on the right would be invalid. You can pass `use_cudnn=False` to your RNN layer to stop using cuDNN (this may be slower).]\n\t [[{{node functional_3_1/bidirectional_3_1/forward_lstm_3_1/Assert/Assert}}]] [Op:__inference_multi_step_on_iterator_13420]"
     ]
    }
   ],
   "source": [
    "callbacks = [\n",
    "    keras.callbacks.EarlyStopping(patience=3, restore_best_weights=True)\n",
    "]\n",
    "\n",
    "history = model.fit(\n",
    "    {\"context_input\": X_train_ctx, \"code_input\": X_train_code},\n",
    "    y_train,\n",
    "    validation_data=(\n",
    "        {\"context_input\": X_val_ctx, \"code_input\": X_val_code},\n",
    "        y_val\n",
    "    ),\n",
    "    epochs=15,\n",
    "    batch_size=256,\n",
    "    callbacks=callbacks\n",
    ")\n"
   ]
  },
  {
   "cell_type": "code",
   "execution_count": null,
   "id": "5bc9e435",
   "metadata": {},
   "outputs": [],
   "source": [
    "test_loss, test_acc = model.evaluate(\n",
    "    {\"context_input\": X_test_ctx, \"code_input\": X_test_code},\n",
    "    y_test\n",
    ")\n",
    "print(f\"Test accuracy: {test_acc:.4f}\")\n"
   ]
  },
  {
   "cell_type": "code",
   "execution_count": null,
   "id": "7ff979ca",
   "metadata": {},
   "outputs": [],
   "source": [
    "def predict_next(code=None, context=\"\", topk=5):\n",
    "    ctx_enc = encode_context(context)\n",
    "    code_enc = encode_code(code) if code else 0\n",
    "    ctx_pad = keras.preprocessing.sequence.pad_sequences([ctx_enc], maxlen=max_context_len)\n",
    "    pred = model.predict({\"context_input\": ctx_pad, \"code_input\": np.array([code_enc])}, verbose=0)[0]\n",
    "    if code:\n",
    "        possible_chars = code2chars[code]\n",
    "        possible_ids = [char2idx[c] for c in possible_chars if c in char2idx]\n",
    "        filtered = [(i, pred[i]) for i in possible_ids]\n",
    "    else:\n",
    "        filtered = list(enumerate(pred))\n",
    "\n",
    "    filtered = sorted(filtered, key=lambda x: x[1], reverse=True)\n",
    "    return [(idx2char[i], score) for i, score in filtered[:topk] if i in idx2char]\n"
   ]
  },
  {
   "cell_type": "code",
   "execution_count": null,
   "id": "1057bd49",
   "metadata": {},
   "outputs": [],
   "source": [
    "print(\"Input code=7426, context='我想知道'\")\n",
    "print(predict_next(code='7426', context='我想知道'))\n",
    "\n",
    "print(\"Input code='', context='价格'\")\n",
    "print(predict_next(code='', context='价格'))\n",
    "\n",
    "print(\"Input code='2878', context=''\")\n",
    "print(predict_next(code='2878', context=''))"
   ]
  }
 ],
 "metadata": {
  "kernelspec": {
   "display_name": "keras",
   "language": "python",
   "name": "python3"
  },
  "language_info": {
   "codemirror_mode": {
    "name": "ipython",
    "version": 3
   },
   "file_extension": ".py",
   "mimetype": "text/x-python",
   "name": "python",
   "nbconvert_exporter": "python",
   "pygments_lexer": "ipython3",
   "version": "3.11.10"
  }
 },
 "nbformat": 4,
 "nbformat_minor": 5
}
