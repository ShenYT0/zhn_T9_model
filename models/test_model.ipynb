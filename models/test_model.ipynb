{
 "cells": [
  {
   "cell_type": "code",
   "id": "initial_id",
   "metadata": {
    "collapsed": true,
    "ExecuteTime": {
     "end_time": "2025-06-11T17:27:03.021428Z",
     "start_time": "2025-06-11T17:27:02.199287Z"
    }
   },
   "source": "from custom_tokenizers.jieba_tokenizer import JiebaLikeTokenizer",
   "outputs": [
    {
     "name": "stderr",
     "output_type": "stream",
     "text": [
      "Building prefix dict from the default dictionary ...\n",
      "Loading model from cache /var/folders/cq/3ryty8mx6qz8cqtn1ghkrvmm0000gn/T/jieba.cache\n",
      "Loading model cost 0.265 seconds.\n",
      "Prefix dict has been built successfully.\n"
     ]
    }
   ],
   "execution_count": 1
  },
  {
   "metadata": {
    "ExecuteTime": {
     "end_time": "2025-06-11T17:27:04.041824Z",
     "start_time": "2025-06-11T17:27:04.025964Z"
    }
   },
   "cell_type": "code",
   "source": "tokenizer = JiebaLikeTokenizer()",
   "id": "239a1a3cf6fd980a",
   "outputs": [],
   "execution_count": 2
  },
  {
   "metadata": {},
   "cell_type": "code",
   "source": "print(tokenizer(\"你好今天我们学习234\", return_tensors=True, add_attention_mask=True))",
   "id": "5d9b62c649d140d9",
   "outputs": [],
   "execution_count": null
  },
  {
   "metadata": {
    "ExecuteTime": {
     "end_time": "2025-06-11T17:31:50.521796Z",
     "start_time": "2025-06-11T17:31:45.993580Z"
    }
   },
   "cell_type": "code",
   "source": [
    "from pipeline import Pipeline\n",
    "\n",
    "pipe = Pipeline()"
   ],
   "id": "4d00bc521bc4718",
   "outputs": [
    {
     "name": "stderr",
     "output_type": "stream",
     "text": [
      "Building prefix dict from the default dictionary ...\n",
      "Loading model from cache /var/folders/cq/3ryty8mx6qz8cqtn1ghkrvmm0000gn/T/jieba.cache\n",
      "Loading model cost 0.242 seconds.\n",
      "Prefix dict has been built successfully.\n"
     ]
    }
   ],
   "execution_count": 1
  },
  {
   "metadata": {
    "ExecuteTime": {
     "end_time": "2025-06-11T17:31:50.629129Z",
     "start_time": "2025-06-11T17:31:50.551214Z"
    }
   },
   "cell_type": "code",
   "source": [
    "text = \"云在天空游荡，它从远方飘来 ，968\"\n",
    "\n",
    "pipe.predict(text)"
   ],
   "id": "6ed47967716bf1db",
   "outputs": [
    {
     "data": {
      "text/plain": [
       "['又', '走', '有', '走向', '有关']"
      ]
     },
     "execution_count": 2,
     "metadata": {},
     "output_type": "execute_result"
    }
   ],
   "execution_count": 2
  },
  {
   "metadata": {},
   "cell_type": "code",
   "outputs": [],
   "execution_count": null,
   "source": "",
   "id": "71d72bdddf6481d6"
  }
 ],
 "metadata": {
  "kernelspec": {
   "display_name": "Python 3",
   "language": "python",
   "name": "python3"
  },
  "language_info": {
   "codemirror_mode": {
    "name": "ipython",
    "version": 2
   },
   "file_extension": ".py",
   "mimetype": "text/x-python",
   "name": "python",
   "nbconvert_exporter": "python",
   "pygments_lexer": "ipython2",
   "version": "2.7.6"
  }
 },
 "nbformat": 4,
 "nbformat_minor": 5
}
