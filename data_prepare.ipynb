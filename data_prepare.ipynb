{
 "cells": [
  {
   "cell_type": "code",
   "id": "initial_id",
   "metadata": {
    "collapsed": true,
    "ExecuteTime": {
     "end_time": "2025-06-03T14:18:36.633443Z",
     "start_time": "2025-06-03T14:18:36.532890Z"
    }
   },
   "source": "from t9_data_preparer import T9DataPreparer",
   "outputs": [],
   "execution_count": 1
  },
  {
   "metadata": {
    "ExecuteTime": {
     "end_time": "2025-06-03T14:18:37.137727Z",
     "start_time": "2025-06-03T14:18:37.135280Z"
    }
   },
   "cell_type": "code",
   "source": "preparer = T9DataPreparer()",
   "id": "bafe296addc98778",
   "outputs": [],
   "execution_count": 2
  },
  {
   "metadata": {
    "ExecuteTime": {
     "end_time": "2025-06-03T14:18:40.831908Z",
     "start_time": "2025-06-03T14:18:37.548145Z"
    }
   },
   "cell_type": "code",
   "source": [
    "samples = preparer.extract_samples_from_files()\n",
    "print(f\"Extracted {len(samples)} samples\")\n",
    "print(f\"Samples example: {samples[0]}\")"
   ],
   "id": "7326ea4c5887bb7d",
   "outputs": [
    {
     "name": "stdout",
     "output_type": "stream",
     "text": [
      "Extracted 43674 samples\n",
      "Samples example: ('7858', 'qulu', '去路')\n"
     ]
    }
   ],
   "execution_count": 3
  },
  {
   "metadata": {
    "ExecuteTime": {
     "end_time": "2025-06-03T14:18:42.562098Z",
     "start_time": "2025-06-03T14:18:41.819148Z"
    }
   },
   "cell_type": "code",
   "source": [
    "sentences = preparer.extract_sentences_from_files()\n",
    "print(f\"Extracted {len(sentences)} sentences\")\n",
    "print(f\"Sentences example: {sentences[0]}\")"
   ],
   "id": "bf31ce6185e2becd",
   "outputs": [
    {
     "name": "stdout",
     "output_type": "stream",
     "text": [
      "Extracted 45703 sentences\n",
      "Sentences example: 云在天空游荡，它从远方飘来，又飘向远方。\n"
     ]
    }
   ],
   "execution_count": 4
  },
  {
   "metadata": {
    "ExecuteTime": {
     "end_time": "2025-06-03T14:20:30.799323Z",
     "start_time": "2025-06-03T14:20:30.777169Z"
    }
   },
   "cell_type": "code",
   "source": [
    "output_path = 'data/zh_T9_dataset.tsv'\n",
    "with open(output_path, 'w', encoding='utf-8') as f:\n",
    "    for digit_seq, pinyin_seq, hanzi in samples:\n",
    "        f.write(f\"{digit_seq}\\t{pinyin_seq}\\t{hanzi}\\n\")"
   ],
   "id": "e117115394aa454c",
   "outputs": [],
   "execution_count": 5
  },
  {
   "metadata": {
    "ExecuteTime": {
     "end_time": "2025-06-03T14:20:44.182433Z",
     "start_time": "2025-06-03T14:20:44.166291Z"
    }
   },
   "cell_type": "code",
   "source": [
    "with open('data/zh_sent_dataset.tsv', 'w', encoding='utf-8') as f:\n",
    "    for sent in sentences:\n",
    "        f.write(sent + '\\n')"
   ],
   "id": "c74091e18edf6894",
   "outputs": [],
   "execution_count": 6
  },
  {
   "metadata": {},
   "cell_type": "code",
   "outputs": [],
   "execution_count": null,
   "source": "",
   "id": "7f6827d7e6456e6b"
  }
 ],
 "metadata": {
  "kernelspec": {
   "display_name": "Python 3",
   "language": "python",
   "name": "python3"
  },
  "language_info": {
   "codemirror_mode": {
    "name": "ipython",
    "version": 2
   },
   "file_extension": ".py",
   "mimetype": "text/x-python",
   "name": "python",
   "nbconvert_exporter": "python",
   "pygments_lexer": "ipython2",
   "version": "2.7.6"
  }
 },
 "nbformat": 4,
 "nbformat_minor": 5
}
