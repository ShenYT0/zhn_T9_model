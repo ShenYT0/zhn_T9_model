{
 "cells": [
  {
   "cell_type": "markdown",
   "id": "ab4dbef9",
   "metadata": {},
   "source": [
    "https://www.lancaster.ac.uk/fass/projects/corpus/LCMC/"
   ]
  },
  {
   "cell_type": "code",
   "execution_count": 4,
   "id": "c332d6e4",
   "metadata": {},
   "outputs": [],
   "source": [
    "import os\n",
    "import re\n",
    "import xml.etree.ElementTree as ET\n",
    "\n",
    "# T9 mapping for letters to digits\n",
    "t9_map = {\n",
    "    'a': '2', 'b': '2', 'c': '2',\n",
    "    'd': '3', 'e': '3', 'f': '3',\n",
    "    'g': '4', 'h': '4', 'i': '4',\n",
    "    'j': '5', 'k': '5', 'l': '5',\n",
    "    'm': '6', 'n': '6', 'o': '6',\n",
    "    'p': '7', 'q': '7', 'r': '7', 's': '7',\n",
    "    't': '8', 'u': '8', 'v': '8',\n",
    "    'w': '9', 'x': '9', 'y': '9', 'z': '9',\n",
    "}\n",
    "\n",
    "def pinyin_to_digits(pinyin_seq):\n",
    "    return ''.join(t9_map.get(ch, '') for syllable in pinyin_seq for ch in syllable if ch.isalpha())\n",
    "\n",
    "def normalize_pinyin(syllables):\n",
    "    # pinyin of hanzi like \"吕\" shoud be \"lv\" but in data is \"luu\"\n",
    "    return [syll.replace('uu', 'v') for syll in syllables]\n",
    "\n",
    "def split_polyphonic(word):\n",
    "    return re.findall(r'[a-z]+[1-5]?', word)\n",
    "\n",
    "def extract_samples(pinyin_path, character_path):\n",
    "    tree_pinyin = ET.parse(pinyin_path)\n",
    "    tree_character = ET.parse(character_path)\n",
    "    \n",
    "    root_pinyin = tree_pinyin.getroot()\n",
    "    root_character = tree_character.getroot()\n",
    "\n",
    "    samples = []\n",
    "\n",
    "    for sp, sc in zip(root_pinyin.iter('s'), root_character.iter('s')):\n",
    "        pinyin_words = [w.text.strip() for w in sp.findall('w')]\n",
    "        char_words = [w.text.strip() for w in sc.findall('w')]\n",
    "\n",
    "        if len(pinyin_words) != len(char_words):\n",
    "            continue  # skip unmatched lengths\n",
    "        for pinyin, hanzi in zip(pinyin_words, char_words):\n",
    "            syllables = split_polyphonic(pinyin)\n",
    "            normalized = normalize_pinyin(syllables)\n",
    "            digit_seq = pinyin_to_digits(normalized)\n",
    "\n",
    "            if digit_seq and hanzi:\n",
    "                samples.append((digit_seq, hanzi))\n",
    "    \n",
    "    return samples"
   ]
  },
  {
   "cell_type": "code",
   "execution_count": 11,
   "id": "16fd0445",
   "metadata": {},
   "outputs": [
    {
     "name": "stdout",
     "output_type": "stream",
     "text": [
      "Extracted 831576 samples.\n"
     ]
    }
   ],
   "source": [
    "pinyin_dir = 'data/LCMC/2474/Lcmc/data/pinyin'\n",
    "char_dir = 'data/LCMC/2474/Lcmc/data/character'\n",
    "\n",
    "all_samples = []\n",
    "\n",
    "for filename in os.listdir(pinyin_dir):\n",
    "    if filename.endswith('.xml'):\n",
    "        pinyin_path = os.path.join(pinyin_dir, filename)\n",
    "        char_path = os.path.join(char_dir, filename)\n",
    "        if os.path.exists(char_path):\n",
    "            samples = extract_samples(pinyin_path, char_path)\n",
    "            all_samples.extend(samples)\n",
    "            \n",
    "print(f\"Extracted {len(all_samples)} samples.\")"
   ]
  },
  {
   "cell_type": "code",
   "execution_count": 6,
   "id": "929e4f78",
   "metadata": {},
   "outputs": [],
   "source": [
    "with open('data/zh_T9_dataset.tsv', 'w', encoding='utf-8') as f:\n",
    "    for inp, tgt in all_samples:\n",
    "        f.write(f\"{inp}\\t{tgt}\\n\")"
   ]
  },
  {
   "cell_type": "code",
   "execution_count": 12,
   "id": "0110592e",
   "metadata": {},
   "outputs": [
    {
     "name": "stdout",
     "output_type": "stream",
     "text": [
      "Extracted 45703 sentences.\n"
     ]
    }
   ],
   "source": [
    "def extract_sentences_from_character_xml(xml_file):\n",
    "    sentences = []\n",
    "    tree = ET.parse(xml_file)\n",
    "    root = tree.getroot()\n",
    "    for s in root.iter('s'):\n",
    "        tokens = []\n",
    "        for elem in s:\n",
    "            if elem.tag in ('w', 'c'):\n",
    "                text = elem.text.strip() if elem.text else ''\n",
    "                if text:\n",
    "                    tokens.append(text)\n",
    "        if tokens:\n",
    "            sentence = ''.join(tokens)\n",
    "            sentences.append(sentence)\n",
    "    return sentences\n",
    "\n",
    "all_sentences = []\n",
    "\n",
    "for filename in os.listdir(char_dir):\n",
    "    if filename.endswith('.XML'):\n",
    "        filepath = os.path.join(char_dir, filename)\n",
    "        sentences = extract_sentences_from_character_xml(filepath)\n",
    "        all_sentences.extend(sentences)\n",
    "\n",
    "print(f\"Extracted {len(all_sentences)} sentences.\")"
   ]
  },
  {
   "cell_type": "code",
   "execution_count": 13,
   "id": "f56562b7",
   "metadata": {},
   "outputs": [],
   "source": [
    "with open('data/zh_sent_dataset.tsv', 'w', encoding='utf-8') as f:\n",
    "    for sent in all_sentences:\n",
    "        f.write(sent + '\\n')"
   ]
  }
 ],
 "metadata": {
  "kernelspec": {
   "display_name": "keras",
   "language": "python",
   "name": "python3"
  },
  "language_info": {
   "codemirror_mode": {
    "name": "ipython",
    "version": 3
   },
   "file_extension": ".py",
   "mimetype": "text/x-python",
   "name": "python",
   "nbconvert_exporter": "python",
   "pygments_lexer": "ipython3",
   "version": "3.11.10"
  }
 },
 "nbformat": 4,
 "nbformat_minor": 5
}
